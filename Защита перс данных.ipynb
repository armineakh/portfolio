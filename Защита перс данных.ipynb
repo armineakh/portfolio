{
 "cells": [
  {
   "cell_type": "markdown",
   "metadata": {},
   "source": [
    "#### Учебный проект в рамках профессии Data Science Яндекс Практикума\n",
    "\n",
    "### Защита персональных данных клиентов\n",
    "\n",
    "Нам нужно защитить данные клиентов страховой компании «Хоть потоп». Разработаем такой метод преобразования данных, чтобы по ним было сложно восстановить персональную информацию. Обоснуйте корректность его работы.\n",
    "\n",
    "Нужно защитить данные, чтобы при преобразовании качество моделей машинного обучения не ухудшилось. "
   ]
  },
  {
   "cell_type": "markdown",
   "metadata": {},
   "source": [
    "## 1. Загрузка данных"
   ]
  },
  {
   "cell_type": "code",
   "execution_count": 1,
   "metadata": {},
   "outputs": [],
   "source": [
    "import pandas as pd\n",
    "import numpy as np\n",
    "\n",
    "from sklearn.metrics import r2_score\n",
    "from sklearn.linear_model import LinearRegression"
   ]
  },
  {
   "cell_type": "code",
   "execution_count": 2,
   "metadata": {},
   "outputs": [
    {
     "name": "stdout",
     "output_type": "stream",
     "text": [
      "<class 'pandas.core.frame.DataFrame'>\n",
      "RangeIndex: 5000 entries, 0 to 4999\n",
      "Data columns (total 5 columns):\n",
      " #   Column             Non-Null Count  Dtype  \n",
      "---  ------             --------------  -----  \n",
      " 0   Пол                5000 non-null   int64  \n",
      " 1   Возраст            5000 non-null   float64\n",
      " 2   Зарплата           5000 non-null   float64\n",
      " 3   Члены семьи        5000 non-null   int64  \n",
      " 4   Страховые выплаты  5000 non-null   int64  \n",
      "dtypes: float64(2), int64(3)\n",
      "memory usage: 195.4 KB\n"
     ]
    }
   ],
   "source": [
    "data = pd.read_csv('https://code.s3.yandex.net/datasets/insurance.csv')\n",
    "data.info()"
   ]
  },
  {
   "cell_type": "code",
   "execution_count": 3,
   "metadata": {},
   "outputs": [
    {
     "data": {
      "text/html": [
       "<div>\n",
       "<style scoped>\n",
       "    .dataframe tbody tr th:only-of-type {\n",
       "        vertical-align: middle;\n",
       "    }\n",
       "\n",
       "    .dataframe tbody tr th {\n",
       "        vertical-align: top;\n",
       "    }\n",
       "\n",
       "    .dataframe thead th {\n",
       "        text-align: right;\n",
       "    }\n",
       "</style>\n",
       "<table border=\"1\" class=\"dataframe\">\n",
       "  <thead>\n",
       "    <tr style=\"text-align: right;\">\n",
       "      <th></th>\n",
       "      <th>Пол</th>\n",
       "      <th>Возраст</th>\n",
       "      <th>Зарплата</th>\n",
       "      <th>Члены семьи</th>\n",
       "      <th>Страховые выплаты</th>\n",
       "    </tr>\n",
       "  </thead>\n",
       "  <tbody>\n",
       "    <tr>\n",
       "      <th>0</th>\n",
       "      <td>1</td>\n",
       "      <td>41.0</td>\n",
       "      <td>49600.0</td>\n",
       "      <td>1</td>\n",
       "      <td>0</td>\n",
       "    </tr>\n",
       "    <tr>\n",
       "      <th>1</th>\n",
       "      <td>0</td>\n",
       "      <td>46.0</td>\n",
       "      <td>38000.0</td>\n",
       "      <td>1</td>\n",
       "      <td>1</td>\n",
       "    </tr>\n",
       "    <tr>\n",
       "      <th>2</th>\n",
       "      <td>0</td>\n",
       "      <td>29.0</td>\n",
       "      <td>21000.0</td>\n",
       "      <td>0</td>\n",
       "      <td>0</td>\n",
       "    </tr>\n",
       "    <tr>\n",
       "      <th>3</th>\n",
       "      <td>0</td>\n",
       "      <td>21.0</td>\n",
       "      <td>41700.0</td>\n",
       "      <td>2</td>\n",
       "      <td>0</td>\n",
       "    </tr>\n",
       "    <tr>\n",
       "      <th>4</th>\n",
       "      <td>1</td>\n",
       "      <td>28.0</td>\n",
       "      <td>26100.0</td>\n",
       "      <td>0</td>\n",
       "      <td>0</td>\n",
       "    </tr>\n",
       "  </tbody>\n",
       "</table>\n",
       "</div>"
      ],
      "text/plain": [
       "   Пол  Возраст  Зарплата  Члены семьи  Страховые выплаты\n",
       "0    1     41.0   49600.0            1                  0\n",
       "1    0     46.0   38000.0            1                  1\n",
       "2    0     29.0   21000.0            0                  0\n",
       "3    0     21.0   41700.0            2                  0\n",
       "4    1     28.0   26100.0            0                  0"
      ]
     },
     "execution_count": 3,
     "metadata": {},
     "output_type": "execute_result"
    }
   ],
   "source": [
    "data.head()"
   ]
  },
  {
   "cell_type": "code",
   "execution_count": 4,
   "metadata": {},
   "outputs": [
    {
     "data": {
      "text/plain": [
       "<AxesSubplot:>"
      ]
     },
     "execution_count": 4,
     "metadata": {},
     "output_type": "execute_result"
    },
    {
     "data": {
      "image/png": "[encoded data removed]",
      "text/plain": [
       "<Figure size 432x288 with 1 Axes>"
      ]
     },
     "metadata": {
      "needs_background": "light"
     },
     "output_type": "display_data"
    }
   ],
   "source": [
    "data['Возраст'].plot()"
   ]
  },
  {
   "cell_type": "code",
   "execution_count": 5,
   "metadata": {},
   "outputs": [
    {
     "data": {
      "text/plain": [
       "<AxesSubplot:>"
      ]
     },
     "execution_count": 5,
     "metadata": {},
     "output_type": "execute_result"
    },
    {
     "data": {
      "image/png": "[encoded data removed]",
      "text/plain": [
       "<Figure size 432x288 with 1 Axes>"
      ]
     },
     "metadata": {
      "needs_background": "light"
     },
     "output_type": "display_data"
    }
   ],
   "source": [
    "data['Зарплата'].plot()"
   ]
  },
  {
   "cell_type": "markdown",
   "metadata": {},
   "source": [
    "Посмотрели на данные, распределение количественных переменных. Увидели, что аномальных распределений и пропусков нет, можно приступать к следующим шагам."
   ]
  },
  {
   "cell_type": "markdown",
   "metadata": {},
   "source": [
    "## 2. Умножение матриц"
   ]
  },
  {
   "cell_type": "markdown",
   "metadata": {},
   "source": [
    "Обозначения:\n",
    "\n",
    "- $X$ — матрица признаков (нулевой столбец состоит из единиц)\n",
    "\n",
    "- $y$ — вектор целевого признака\n",
    "\n",
    "- $P$ — матрица, на которую умножаются признаки\n",
    "\n",
    "- $w$ — вектор весов линейной регрессии (нулевой элемент равен сдвигу)"
   ]
  },
  {
   "cell_type": "markdown",
   "metadata": {},
   "source": [
    "Предсказания:\n",
    "\n",
    "$$\n",
    "a = Xw\n",
    "$$\n",
    "\n",
    "Задача обучения:\n",
    "\n",
    "$$\n",
    "w = \\arg\\min_w MSE(Xw, y)\n",
    "$$\n",
    "\n",
    "Формула обучения:\n",
    "\n",
    "$$\n",
    "w = (X^T X)^{-1} X^T y\n",
    "$$"
   ]
  },
  {
   "cell_type": "markdown",
   "metadata": {},
   "source": [
    "**Ответим на вопросы ниже и обоснуем решение**\n",
    "\n",
    "\n",
    "Признаки умножают на обратимую матрицу. <br>\n",
    "Изменится ли качество линейной регрессии? (Её можно обучить заново.)\n",
    "a. Изменится. Приведите примеры матриц.\n",
    "b. Не изменится. <br>\n",
    "Укажите, как связаны параметры линейной регрессии в исходной задаче и в преобразованной.\n",
    "\n"
   ]
  },
  {
   "cell_type": "markdown",
   "metadata": {},
   "source": [
    "**Ответ:**  Качество линейной регрессии не изменится <br>\n",
    "<br>\n",
    "**Обоснование:** ↓"
   ]
  },
  {
   "cell_type": "code",
   "execution_count": 6,
   "metadata": {},
   "outputs": [],
   "source": [
    "# Для начала обозначим наши признаки и целевые показатели\n",
    "\n",
    "features = data.drop('Страховые выплаты', axis=1)\n",
    "target = data['Страховые выплаты']"
   ]
  },
  {
   "cell_type": "code",
   "execution_count": 7,
   "metadata": {},
   "outputs": [
    {
     "name": "stdout",
     "output_type": "stream",
     "text": [
      "0.4249455028666801\n"
     ]
    }
   ],
   "source": [
    "# Проверим качество линейной регрессии на исходных данных и запомним r2 нашей модели\n",
    "\n",
    "class LinRegression:\n",
    "    def fit(self, train_features, train_target):\n",
    "        X = np.concatenate((np.ones((train_features.shape[0], 1)), train_features), axis=1)\n",
    "        y = train_target\n",
    "        w = ((np.linalg.inv(X.T.dot(X))).dot(X.T)).dot(y)\n",
    "        self.w = w[1:]\n",
    "        self.w0 = w[0]\n",
    "\n",
    "    def predict(self, test_features):\n",
    "        return test_features.dot(self.w) + self.w0\n",
    "    \n",
    "model = LinRegression()\n",
    "model.fit(features, target)\n",
    "predictions = model.predict(features)\n",
    "print(r2_score(target, predictions))"
   ]
  },
  {
   "cell_type": "code",
   "execution_count": 8,
   "metadata": {},
   "outputs": [
    {
     "name": "stdout",
     "output_type": "stream",
     "text": [
      "0.4249455028666801\n"
     ]
    }
   ],
   "source": [
    "# Сравним с результатами полученными моделью sklearn\n",
    "\n",
    "model = LinearRegression()\n",
    "model.fit(features, target)\n",
    "predictions = model.predict(features)\n",
    "print(r2_score(target, predictions))"
   ]
  },
  {
   "cell_type": "markdown",
   "metadata": {},
   "source": [
    "Посмотрим на размеры нашей матрицы"
   ]
  },
  {
   "cell_type": "code",
   "execution_count": 9,
   "metadata": {},
   "outputs": [
    {
     "name": "stdout",
     "output_type": "stream",
     "text": [
      "(5000, 5)\n",
      "(5, 5000)\n"
     ]
    }
   ],
   "source": [
    "matrix = data.values\n",
    "print(matrix.shape)\n",
    "\n",
    "matrix_t = matrix.T\n",
    "print(matrix_t.shape)"
   ]
  },
  {
   "cell_type": "markdown",
   "metadata": {},
   "source": []
  },
  {
   "cell_type": "code",
   "execution_count": 10,
   "metadata": {},
   "outputs": [],
   "source": [
    "# Формируем матрицу признаков X (без целевого признака)\n",
    "\n",
    "X = features.values"
   ]
  },
  {
   "cell_type": "markdown",
   "metadata": {},
   "source": []
  },
  {
   "cell_type": "code",
   "execution_count": 11,
   "metadata": {},
   "outputs": [],
   "source": [
    "# Формируем вектор целевого признака y \n",
    "\n",
    "y = np.array(target)"
   ]
  },
  {
   "cell_type": "markdown",
   "metadata": {},
   "source": []
  },
  {
   "cell_type": "code",
   "execution_count": 12,
   "metadata": {},
   "outputs": [
    {
     "name": "stdout",
     "output_type": "stream",
     "text": [
      "[[ 1.83496184e+02  6.88018762e+02  1.70852916e+03  7.74191374e+02]\n",
      " [ 3.91769222e+02  1.17960625e+03  1.47990104e+03  7.32276170e+02]\n",
      " [ 5.08230475e-01 -5.11459281e+02  4.95852346e+02  4.44629803e+02]\n",
      " [ 2.46964579e+02 -4.64263045e+02  1.86399818e+03 -3.63928484e+02]]\n"
     ]
    }
   ],
   "source": [
    "# Генерируем случайную матрицу P размером 4 * 4\n",
    "\n",
    "random_matrix = np.random.normal(0, 1000, size = (4, 4))\n",
    "print(random_matrix)"
   ]
  },
  {
   "cell_type": "code",
   "execution_count": 13,
   "metadata": {},
   "outputs": [
    {
     "name": "stdout",
     "output_type": "stream",
     "text": [
      "[[-0.00567972  0.00475144  0.00265877  0.00072637]\n",
      " [ 0.0007938  -0.00022546 -0.00119886 -0.00022968]\n",
      " [ 0.00092777 -0.00060553 -0.00039548  0.00027206]\n",
      " [-0.00011504  0.00041052  0.00130802 -0.00056843]]\n"
     ]
    }
   ],
   "source": [
    "# Проверяем, чтобы случайная матрица P была обратимой\n",
    "\n",
    "random_matrix_inv = np.linalg.inv(random_matrix)\n",
    "print(random_matrix_inv)"
   ]
  },
  {
   "cell_type": "code",
   "execution_count": 14,
   "metadata": {},
   "outputs": [
    {
     "name": "stdout",
     "output_type": "stream",
     "text": [
      "[[-1.04220693e+00  3.26908140e+00  4.54258367e+00  5.62346803e-01]\n",
      " [ 3.10988153e-01 -2.65951386e-01 -1.77418830e+00 -1.68190838e-01]\n",
      " [ 4.71519776e-04  3.09705190e-01 -1.96101514e-01  1.20964134e-01]\n",
      " [-2.84109576e-02 -1.90587140e-01  2.43814491e+00  2.06868594e-01]]\n",
      " - - - \n",
      "[[-1.04220693e+00  3.26908140e+00  4.54258367e+00  5.62346803e-01]\n",
      " [ 3.10988153e-01 -2.65951386e-01 -1.77418830e+00 -1.68190838e-01]\n",
      " [ 4.71519776e-04  3.09705190e-01 -1.96101514e-01  1.20964134e-01]\n",
      " [-2.84109576e-02 -1.90587140e-01  2.43814491e+00  2.06868594e-01]]\n",
      "- - -\n",
      "Детерминанты равны, матрицы обратимы\n"
     ]
    }
   ],
   "source": [
    "aa1 = random_matrix*random_matrix_inv\n",
    "a1a = random_matrix_inv*random_matrix\n",
    "\n",
    "print(aa1)\n",
    "print(' - - - ')\n",
    "print(a1a)\n",
    "print('- - -')\n",
    "\n",
    "# Проверим детерминанты матриц\n",
    "det_aa1 = round(np.linalg.det(aa1), 2)\n",
    "det_a1a = round(np.linalg.det(a1a), 2)\n",
    "\n",
    "if det_aa1  == det_a1a:\n",
    "    print('Детерминанты равны, матрицы обратимы')\n",
    "else:\n",
    "    print('Матрицы необратимы')"
   ]
  },
  {
   "cell_type": "code",
   "execution_count": 15,
   "metadata": {},
   "outputs": [],
   "source": [
    "# Вычисляем преобразованную матрицу признаков X' = XP\n",
    "\n",
    "X_modified = X.dot(random_matrix)"
   ]
  },
  {
   "cell_type": "code",
   "execution_count": 16,
   "metadata": {},
   "outputs": [
    {
     "name": "stdout",
     "output_type": "stream",
     "text": [
      "                 0            1             2            3\n",
      "count  5000.000000  5000.000000   5000.000000  5000.000000\n",
      "mean      0.499000    30.952800  39916.360000     1.194200\n",
      "std       0.500049     8.440807   9900.083569     1.091387\n",
      "min       0.000000    18.000000   5300.000000     0.000000\n",
      "25%       0.000000    24.000000  33300.000000     0.000000\n",
      "50%       0.000000    30.000000  40200.000000     1.000000\n",
      "75%       1.000000    37.000000  46600.000000     2.000000\n",
      "max       1.000000    65.000000  79000.000000     6.000000\n",
      "                  0             1             2             3\n",
      "count   5000.000000  5.000000e+03  5.000000e+03  5.000000e+03\n",
      "mean   32799.554683 -2.037929e+07  1.984151e+07  1.777062e+07\n",
      "std     5968.055377  5.063669e+06  4.908709e+06  4.401776e+06\n",
      "min    10959.466722 -4.035716e+07  2.661188e+06  2.371594e+06\n",
      "25%    28751.499624 -2.380286e+07  1.655011e+07  1.482212e+07\n",
      "50%    32722.114376 -2.052103e+07  1.997246e+07  1.789188e+07\n",
      "75%    36651.953486 -1.699674e+07  2.315471e+07  2.074203e+07\n",
      "max    56890.170987 -2.686918e+06  3.923845e+07  3.515582e+07\n"
     ]
    }
   ],
   "source": [
    "# Проверяем отличается ли X' от X\n",
    "\n",
    "data_X = pd.DataFrame (X)\n",
    "data_X_modified = pd.DataFrame (X_modified)\n",
    "\n",
    "print(data_X.describe())\n",
    "print(data_X_modified.describe())"
   ]
  },
  {
   "cell_type": "code",
   "execution_count": 17,
   "metadata": {},
   "outputs": [],
   "source": [
    "# Обновим наши переменные\n",
    "\n",
    "features = data_X\n",
    "features_modified = data_X_modified\n",
    "target = pd.DataFrame (y)"
   ]
  },
  {
   "cell_type": "code",
   "execution_count": 18,
   "metadata": {},
   "outputs": [
    {
     "name": "stdout",
     "output_type": "stream",
     "text": [
      "0.4249455028666801\n"
     ]
    }
   ],
   "source": [
    "# Сравниваем качество моделей\n",
    "    \n",
    "model = LinRegression()\n",
    "model.fit(features, target)\n",
    "predictions = model.predict(features)\n",
    "print(r2_score(target, predictions))\n"
   ]
  },
  {
   "cell_type": "code",
   "execution_count": 19,
   "metadata": {},
   "outputs": [
    {
     "name": "stdout",
     "output_type": "stream",
     "text": [
      "0.4249455028666651\n"
     ]
    }
   ],
   "source": [
    "model = LinRegression()\n",
    "model.fit(features_modified, target)\n",
    "predictions = model.predict(features_modified)\n",
    "print(r2_score(target, predictions))"
   ]
  },
  {
   "cell_type": "markdown",
   "metadata": {},
   "source": [
    "**Выводы**\n",
    "\n",
    "В матрицах с признаками X и X' (=XP) мы получили примерно такие же результаты, линейная регрессия не пострадала в качестве от преобразований с обратимой матрицей.\n"
   ]
  },
  {
   "cell_type": "markdown",
   "metadata": {},
   "source": [
    "## 3. Алгоритм преобразования"
   ]
  },
  {
   "cell_type": "markdown",
   "metadata": {},
   "source": [
    "Предложим алгоритм преобразования данных для решения задачи. Обоснуем, почему качество линейной регрессии не поменяется.\n"
   ]
  },
  {
   "cell_type": "markdown",
   "metadata": {},
   "source": [
    "**Алгоритм и его обоснование**\n"
   ]
  },
  {
   "cell_type": "markdown",
   "metadata": {},
   "source": [
    "Судя по нашим расчетам выше получается, что"
   ]
  },
  {
   "cell_type": "markdown",
   "metadata": {},
   "source": [
    "$$\n",
    "a = Xw = X'w' = a'\n",
    "$$"
   ]
  },
  {
   "cell_type": "markdown",
   "metadata": {},
   "source": [
    "Чтобы доказать это, посмотрим на нашу изначальную формулу весов:"
   ]
  },
  {
   "cell_type": "markdown",
   "metadata": {},
   "source": [
    "$$\n",
    "w = (X^T X)^{-1} X^T y\n",
    "$$"
   ]
  },
  {
   "cell_type": "markdown",
   "metadata": {},
   "source": [
    "При изменении X на X' (т.е. XP) и использовании формул выше (AB..) превращается в"
   ]
  },
  {
   "cell_type": "markdown",
   "metadata": {},
   "source": [
    "$$w' = ((XP)^T X P)^{-1} (XP)^T y =  P^{-1}((XP)^{T}X)^{-1}(XP)^T y = $$\n",
    "$$ P^{-1}((XP)^{T}X)^{-1}P^TX^T y = P^{-1}(P^TX^TX)^{-1}P^TX^T y = $$\n",
    "$$ = P^{-1}(X^TX)^{-1}(P^T)^{-1}P^TX^Ty = P^{-1}(X^TX)^{-1}X^Ty   $$\n",
    "\n",
    "По формуле выше мы знаем, что: \n",
    "$$ w = (X^TX)^{-1}X^Ty$$\n",
    " \n",
    "Получается, что:\n",
    "$$ w' = P^{-1}w $$"
   ]
  },
  {
   "cell_type": "markdown",
   "metadata": {},
   "source": [
    "\n",
    "$$ a'=X'w' = XPP^{-1}w = Xw = a $$\n",
    "\n",
    "Соответственно мы имеем дело с обратимыми матрицами, которые мы можем использовать для обучения моделей, a наше **а** должно с небольшими погрешностями быть практически равно **a'**\n",
    "\n"
   ]
  },
  {
   "cell_type": "markdown",
   "metadata": {},
   "source": [
    "## 4. Проверка алгоритма"
   ]
  },
  {
   "cell_type": "markdown",
   "metadata": {},
   "source": [
    "Запрограммируем этот алгоритм, применив матричные операции. Проверим, что качество линейной регрессии из sklearn не отличается до и после преобразования. Применим метрику R2."
   ]
  },
  {
   "cell_type": "code",
   "execution_count": 20,
   "metadata": {},
   "outputs": [],
   "source": [
    "class Transformation:\n",
    "    \n",
    "    def fit(self, data):\n",
    "        self.D = np.random.normal(0,5, (data.shape[1], data.shape[1]))\n",
    "        self.D_inv = np.linalg.inv(self.D)\n",
    "        \n",
    "    def transform_data (self, data):\n",
    "        transformed_data = data.dot(self.D)\n",
    "        return transformed_data \n",
    "    \n",
    "    def recover_data (self, transformed_data):\n",
    "        recovered_data = transformed_data.dot(self.D_inv)\n",
    "        return recovered_data\n",
    "    "
   ]
  },
  {
   "cell_type": "code",
   "execution_count": 21,
   "metadata": {},
   "outputs": [],
   "source": [
    "# Вспомним какие у нас features и target\n",
    "\n",
    "features = data.drop('Страховые выплаты', axis=1)\n",
    "target = data['Страховые выплаты']"
   ]
  },
  {
   "cell_type": "code",
   "execution_count": 22,
   "metadata": {},
   "outputs": [],
   "source": [
    "key = Transformation()"
   ]
  },
  {
   "cell_type": "code",
   "execution_count": 23,
   "metadata": {},
   "outputs": [],
   "source": [
    "key.fit(features)"
   ]
  },
  {
   "cell_type": "code",
   "execution_count": 24,
   "metadata": {},
   "outputs": [
    {
     "name": "stdout",
     "output_type": "stream",
     "text": [
      "                  0              1             2              3\n",
      "0    -276927.614419 -311385.713514 -41718.473263  288776.468046\n",
      "1    -212201.220672 -238598.410946 -31923.583649  221358.117796\n",
      "2    -117278.696055 -131862.725089 -17625.600176  122356.738798\n",
      "3    -232776.286571 -261767.833777 -35123.088110  242678.997241\n",
      "4    -145743.497716 -163864.586896 -21929.586614  152005.933159\n",
      "...             ...            ...           ...            ...\n",
      "4995 -199313.977967 -224127.180953 -30045.548602  207841.459054\n",
      "4996 -292525.171723 -328946.783575 -44096.598414  305006.372151\n",
      "4997 -189244.963498 -212812.247796 -28549.809364  197309.896907\n",
      "4998 -182563.352115 -205285.880968 -27546.225899  190347.266270\n",
      "4999 -226663.600586 -254871.830637 -34166.201766  236333.322525\n",
      "\n",
      "[5000 rows x 4 columns]\n"
     ]
    }
   ],
   "source": [
    "# Проверим меняются ли наши данные\n",
    "\n",
    "features = key.transform_data(features)\n",
    "print(features)"
   ]
  },
  {
   "cell_type": "code",
   "execution_count": 25,
   "metadata": {},
   "outputs": [
    {
     "name": "stdout",
     "output_type": "stream",
     "text": [
      "0.42494550286663546\n"
     ]
    }
   ],
   "source": [
    "# Обучим модель с измененными данными \n",
    "model = LinRegression()\n",
    "model.fit(features, target)\n",
    "predictions = model.predict(features)\n",
    "print(r2_score(target, predictions))"
   ]
  },
  {
   "cell_type": "code",
   "execution_count": 26,
   "metadata": {},
   "outputs": [
    {
     "name": "stdout",
     "output_type": "stream",
     "text": [
      "                 0     1        2             3\n",
      "0     1.000000e+00  41.0  49600.0  1.000000e+00\n",
      "1    -5.002221e-12  46.0  38000.0  1.000000e+00\n",
      "2    -9.094947e-13  29.0  21000.0 -1.818989e-12\n",
      "3     2.728484e-12  21.0  41700.0  2.000000e+00\n",
      "4     1.000000e+00  28.0  26100.0 -1.818989e-12\n",
      "...            ...   ...      ...           ...\n",
      "4995  3.637979e-12  28.0  35700.0  2.000000e+00\n",
      "4996 -1.364242e-12  34.0  52400.0  1.000000e+00\n",
      "4997 -9.094947e-13  20.0  33900.0  2.000000e+00\n",
      "4998  1.000000e+00  22.0  32700.0  3.000000e+00\n",
      "4999  1.000000e+00  28.0  40600.0  1.000000e+00\n",
      "\n",
      "[5000 rows x 4 columns]\n"
     ]
    }
   ],
   "source": [
    "# Восстановим данные, проверим, что признаки изменились\n",
    "\n",
    "features = key.recover_data(features)\n",
    "print(features)"
   ]
  },
  {
   "cell_type": "code",
   "execution_count": 27,
   "metadata": {},
   "outputs": [
    {
     "name": "stdout",
     "output_type": "stream",
     "text": [
      "0.4249455028666711\n"
     ]
    }
   ],
   "source": [
    "model = LinRegression()\n",
    "model.fit(features, target)\n",
    "predictions = model.predict(features)\n",
    "print(r2_score(target, predictions))"
   ]
  },
  {
   "cell_type": "markdown",
   "metadata": {},
   "source": [
    "Результаты показали практически идентичный результат метрики r2, что и требовалось доказать"
   ]
  }
 ],
 "metadata": {
  "kernelspec": {
   "display_name": "Python 3",
   "language": "python",
   "name": "python3"
  },
  "language_info": {
   "codemirror_mode": {
    "name": "ipython",
    "version": 3
   },
   "file_extension": ".py",
   "mimetype": "text/x-python",
   "name": "python",
   "nbconvert_exporter": "python",
   "pygments_lexer": "ipython3",
   "version": "3.8.5"
  },
  "toc": {
   "base_numbering": 1,
   "nav_menu": {},
   "number_sections": true,
   "sideBar": true,
   "skip_h1_title": true,
   "title_cell": "Table of Contents",
   "title_sidebar": "Contents",
   "toc_cell": false,
   "toc_position": {},
   "toc_section_display": true,
   "toc_window_display": false
  }
 },
 "nbformat": 4,
 "nbformat_minor": 2
}
