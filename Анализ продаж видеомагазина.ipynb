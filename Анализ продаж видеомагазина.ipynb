{
 "cells": [
  {
   "cell_type": "markdown",
   "metadata": {},
   "source": [
    "#### Учебный проект в рамках профессии Data Science Яндекс Практикума\n",
    "\n",
    "## Разработка рекомендаций для интернет-магазина \"Стримчик\" \n",
    "\n",
    "В этом проекте мы должны проанализировать деятельность интернет-магазина «Стримчик», продающего по всему миру компьютерные игры. Из открытых источников нам доступны исторические данные о продажах игр, оценки пользователей и экспертов, жанры и платформы (например, Xbox или PlayStation). Нам нужно выявить определяющие успешность игры закономерности. Это позволит сделать ставку на потенциально популярный продукт и спланировать рекламные кампании.\n",
    "\n",
    "Перед нами данные до 2016 года и мы должны составить рекомендации на следующий, 2017 год.\n",
    "\n",
    "Приступим к анализу. \n",
    "\n",
    "План наших действий: \n",
    "\n",
    "* Первым шагом мы проанализируем имеющеся данные, поймем где есть пропуски и как они там появились.\n",
    "* Далее мы преобразуем данные, чтобы их было удобнее анализировать.\n",
    "* После этого мы сможем визуализировать данные и изучать взаимосвязи различных факторов, их корреляции.\n",
    "* В итоге мы попробуем подвести выводы и сформировать рекомендации на следующий год."
   ]
  },
  {
   "cell_type": "markdown",
   "metadata": {},
   "source": [
    "### Шаг 1. Откроем файл с данными и изучим  общую информацию\n"
   ]
  },
  {
   "cell_type": "markdown",
   "metadata": {},
   "source": [
    "#### Описание данных \n",
    "\n",
    "* Name — название игры \n",
    "* Platform — платформа\n",
    "* Year_of_Release — год выпуска\n",
    "* Genre — жанр игры\n",
    "* NA_sales — продажи в Северной Америке (миллионы долларов)\n",
    "* EU_sales — продажи в Европе (миллионы долларов)\n",
    "* JP_sales — продажи в Японии (миллионы долларов)\n",
    "* Other_sales — продажи в других странах (миллионы долларов)\n",
    "* Critic_Score — оценка критиков (максимум 100)\n",
    "* User_Score — оценка пользователей (максимум 10)\n",
    "* Rating — рейтинг от организации ESRB (англ. Entertainment Software Rating Board). Эта ассоциация определяет рейтинг компьютерных игр и присваивает им подходящую возрастную категорию. \n"
   ]
  },
  {
   "cell_type": "code",
   "execution_count": 1,
   "metadata": {},
   "outputs": [
    {
     "name": "stdout",
     "output_type": "stream",
     "text": [
      "<class 'pandas.core.frame.DataFrame'>\n",
      "RangeIndex: 16715 entries, 0 to 16714\n",
      "Data columns (total 11 columns):\n",
      " #   Column           Non-Null Count  Dtype  \n",
      "---  ------           --------------  -----  \n",
      " 0   Name             16713 non-null  object \n",
      " 1   Platform         16715 non-null  object \n",
      " 2   Year_of_Release  16446 non-null  float64\n",
      " 3   Genre            16713 non-null  object \n",
      " 4   NA_sales         16715 non-null  float64\n",
      " 5   EU_sales         16715 non-null  float64\n",
      " 6   JP_sales         16715 non-null  float64\n",
      " 7   Other_sales      16715 non-null  float64\n",
      " 8   Critic_Score     8137 non-null   float64\n",
      " 9   User_Score       10014 non-null  object \n",
      " 10  Rating           9949 non-null   object \n",
      "dtypes: float64(6), object(5)\n",
      "memory usage: 1.4+ MB\n"
     ]
    },
    {
     "data": {
      "text/html": [
       "<div>\n",
       "<style scoped>\n",
       "    .dataframe tbody tr th:only-of-type {\n",
       "        vertical-align: middle;\n",
       "    }\n",
       "\n",
       "    .dataframe tbody tr th {\n",
       "        vertical-align: top;\n",
       "    }\n",
       "\n",
       "    .dataframe thead th {\n",
       "        text-align: right;\n",
       "    }\n",
       "</style>\n",
       "<table border=\"1\" class=\"dataframe\">\n",
       "  <thead>\n",
       "    <tr style=\"text-align: right;\">\n",
       "      <th></th>\n",
       "      <th>Year_of_Release</th>\n",
       "      <th>NA_sales</th>\n",
       "      <th>EU_sales</th>\n",
       "      <th>JP_sales</th>\n",
       "      <th>Other_sales</th>\n",
       "      <th>Critic_Score</th>\n",
       "    </tr>\n",
       "  </thead>\n",
       "  <tbody>\n",
       "    <tr>\n",
       "      <th>count</th>\n",
       "      <td>16446.000000</td>\n",
       "      <td>16715.000000</td>\n",
       "      <td>16715.000000</td>\n",
       "      <td>16715.000000</td>\n",
       "      <td>16715.000000</td>\n",
       "      <td>8137.000000</td>\n",
       "    </tr>\n",
       "    <tr>\n",
       "      <th>mean</th>\n",
       "      <td>2006.484616</td>\n",
       "      <td>0.263377</td>\n",
       "      <td>0.145060</td>\n",
       "      <td>0.077617</td>\n",
       "      <td>0.047342</td>\n",
       "      <td>68.967679</td>\n",
       "    </tr>\n",
       "    <tr>\n",
       "      <th>std</th>\n",
       "      <td>5.877050</td>\n",
       "      <td>0.813604</td>\n",
       "      <td>0.503339</td>\n",
       "      <td>0.308853</td>\n",
       "      <td>0.186731</td>\n",
       "      <td>13.938165</td>\n",
       "    </tr>\n",
       "    <tr>\n",
       "      <th>min</th>\n",
       "      <td>1980.000000</td>\n",
       "      <td>0.000000</td>\n",
       "      <td>0.000000</td>\n",
       "      <td>0.000000</td>\n",
       "      <td>0.000000</td>\n",
       "      <td>13.000000</td>\n",
       "    </tr>\n",
       "    <tr>\n",
       "      <th>25%</th>\n",
       "      <td>2003.000000</td>\n",
       "      <td>0.000000</td>\n",
       "      <td>0.000000</td>\n",
       "      <td>0.000000</td>\n",
       "      <td>0.000000</td>\n",
       "      <td>60.000000</td>\n",
       "    </tr>\n",
       "    <tr>\n",
       "      <th>50%</th>\n",
       "      <td>2007.000000</td>\n",
       "      <td>0.080000</td>\n",
       "      <td>0.020000</td>\n",
       "      <td>0.000000</td>\n",
       "      <td>0.010000</td>\n",
       "      <td>71.000000</td>\n",
       "    </tr>\n",
       "    <tr>\n",
       "      <th>75%</th>\n",
       "      <td>2010.000000</td>\n",
       "      <td>0.240000</td>\n",
       "      <td>0.110000</td>\n",
       "      <td>0.040000</td>\n",
       "      <td>0.030000</td>\n",
       "      <td>79.000000</td>\n",
       "    </tr>\n",
       "    <tr>\n",
       "      <th>max</th>\n",
       "      <td>2016.000000</td>\n",
       "      <td>41.360000</td>\n",
       "      <td>28.960000</td>\n",
       "      <td>10.220000</td>\n",
       "      <td>10.570000</td>\n",
       "      <td>98.000000</td>\n",
       "    </tr>\n",
       "  </tbody>\n",
       "</table>\n",
       "</div>"
      ],
      "text/plain": [
       "       Year_of_Release      NA_sales      EU_sales      JP_sales  \\\n",
       "count     16446.000000  16715.000000  16715.000000  16715.000000   \n",
       "mean       2006.484616      0.263377      0.145060      0.077617   \n",
       "std           5.877050      0.813604      0.503339      0.308853   \n",
       "min        1980.000000      0.000000      0.000000      0.000000   \n",
       "25%        2003.000000      0.000000      0.000000      0.000000   \n",
       "50%        2007.000000      0.080000      0.020000      0.000000   \n",
       "75%        2010.000000      0.240000      0.110000      0.040000   \n",
       "max        2016.000000     41.360000     28.960000     10.220000   \n",
       "\n",
       "        Other_sales  Critic_Score  \n",
       "count  16715.000000   8137.000000  \n",
       "mean       0.047342     68.967679  \n",
       "std        0.186731     13.938165  \n",
       "min        0.000000     13.000000  \n",
       "25%        0.000000     60.000000  \n",
       "50%        0.010000     71.000000  \n",
       "75%        0.030000     79.000000  \n",
       "max       10.570000     98.000000  "
      ]
     },
     "execution_count": 1,
     "metadata": {},
     "output_type": "execute_result"
    }
   ],
   "source": [
    "import math\n",
    "import pandas as pd \n",
    "import matplotlib as plt \n",
    "import matplotlib.pyplot as plot \n",
    "import numpy as np\n",
    "import seaborn as sns\n",
    "from scipy import stats as st\n",
    "from math import factorial\n",
    " \n",
    "data = pd.read_csv('https://code.s3.yandex.net/datasets/games.csv')\n",
    "data.head(5)\n",
    "data.info()\n",
    "data.describe()"
   ]
  },
  {
   "cell_type": "markdown",
   "metadata": {},
   "source": [
    "**Промежуточные выводы**\n",
    "\n",
    "После открытия датасета мы видим, что в таблице 16713 строк с данными о названиях игр, их платформах, годе выпуска и мнению критиков и игроков в разных регионах. \n",
    "\n",
    "К сожалению, хуже всего обстоят дела с полнотой данных по рейтингам: видимо, это поле необязательное, либо есть не так много профессиональных критиков, которые могут составить полноценный обзор на игры. \n",
    "\n",
    "Из плюсов: финансовые результаты довольно подробные, а значит мы сможем проанализировать популярность игр на разных континентах.\n",
    "\n",
    "-- \n",
    "\n",
    "Причин для появления пропусков может быть много: например, они могли потеряться при объединении результатов из разных регионов или за ввод данных посадили новых сотрудников магазина, которые невнимательно заполнили поля с названиями. \n",
    "\n",
    "Потерь строчек в полях с названием и платформой явно можно было бы избежать: кажется, что это просто человеческий фактор и кто-то действительно при вводе пропустил несколько значений с названиями. \n",
    "\n",
    "Пропуски в рейтингах, как мы предположили выше, скорее всего систематичные и неслучайные: их не требуют и не собирают в обязательном порядке, хотя они могли бы быть полезными, это явная \"зона роста\" для сбора данных.\n",
    "\n",
    "Неправильный формат в датах точно нужно лечить он неслучаен и затронул все данные: к сожалению, мы не видим дней и времени покупок, а с ними мы могли бы лучше планировать сезонные релизы или, например, присмотреться когда больше вероятность совершить покупку: утром в понедельник или вечером в субботу.   "
   ]
  },
  {
   "cell_type": "markdown",
   "metadata": {},
   "source": [
    "### Шаг 2. Подготовим данные\n",
    "\n",
    "* Заменим названия столбцов (приведите к нижнему регистру);\n",
    "* Преобразуем данные в нужные типы;\n",
    "* Обработаем пропуски при необходимости:\n",
    "* Объясним, почему заполнили пропуски определённым образом или почему не стали это делать;\n",
    "* Опишем причины, которые могли привести к пропускам;\n",
    "* Отдельно разберем значение tbd;\n",
    "* Посчитаем суммарные продажи во всех регионах и запишем их в отдельный столбец."
   ]
  },
  {
   "cell_type": "code",
   "execution_count": 2,
   "metadata": {},
   "outputs": [
    {
     "data": {
      "text/html": [
       "<div>\n",
       "<style scoped>\n",
       "    .dataframe tbody tr th:only-of-type {\n",
       "        vertical-align: middle;\n",
       "    }\n",
       "\n",
       "    .dataframe tbody tr th {\n",
       "        vertical-align: top;\n",
       "    }\n",
       "\n",
       "    .dataframe thead th {\n",
       "        text-align: right;\n",
       "    }\n",
       "</style>\n",
       "<table border=\"1\" class=\"dataframe\">\n",
       "  <thead>\n",
       "    <tr style=\"text-align: right;\">\n",
       "      <th></th>\n",
       "      <th>name</th>\n",
       "      <th>platform</th>\n",
       "      <th>year_of_release</th>\n",
       "      <th>genre</th>\n",
       "      <th>na_sales</th>\n",
       "      <th>eu_sales</th>\n",
       "      <th>jp_sales</th>\n",
       "      <th>other_sales</th>\n",
       "      <th>critic_score</th>\n",
       "      <th>user_score</th>\n",
       "      <th>rating</th>\n",
       "    </tr>\n",
       "  </thead>\n",
       "  <tbody>\n",
       "    <tr>\n",
       "      <th>0</th>\n",
       "      <td>Wii Sports</td>\n",
       "      <td>Wii</td>\n",
       "      <td>2006.0</td>\n",
       "      <td>Sports</td>\n",
       "      <td>41.36</td>\n",
       "      <td>28.96</td>\n",
       "      <td>3.77</td>\n",
       "      <td>8.45</td>\n",
       "      <td>76.0</td>\n",
       "      <td>8</td>\n",
       "      <td>E</td>\n",
       "    </tr>\n",
       "    <tr>\n",
       "      <th>1</th>\n",
       "      <td>Super Mario Bros.</td>\n",
       "      <td>NES</td>\n",
       "      <td>1985.0</td>\n",
       "      <td>Platform</td>\n",
       "      <td>29.08</td>\n",
       "      <td>3.58</td>\n",
       "      <td>6.81</td>\n",
       "      <td>0.77</td>\n",
       "      <td>NaN</td>\n",
       "      <td>NaN</td>\n",
       "      <td>NaN</td>\n",
       "    </tr>\n",
       "    <tr>\n",
       "      <th>2</th>\n",
       "      <td>Mario Kart Wii</td>\n",
       "      <td>Wii</td>\n",
       "      <td>2008.0</td>\n",
       "      <td>Racing</td>\n",
       "      <td>15.68</td>\n",
       "      <td>12.76</td>\n",
       "      <td>3.79</td>\n",
       "      <td>3.29</td>\n",
       "      <td>82.0</td>\n",
       "      <td>8.3</td>\n",
       "      <td>E</td>\n",
       "    </tr>\n",
       "    <tr>\n",
       "      <th>3</th>\n",
       "      <td>Wii Sports Resort</td>\n",
       "      <td>Wii</td>\n",
       "      <td>2009.0</td>\n",
       "      <td>Sports</td>\n",
       "      <td>15.61</td>\n",
       "      <td>10.93</td>\n",
       "      <td>3.28</td>\n",
       "      <td>2.95</td>\n",
       "      <td>80.0</td>\n",
       "      <td>8</td>\n",
       "      <td>E</td>\n",
       "    </tr>\n",
       "    <tr>\n",
       "      <th>4</th>\n",
       "      <td>Pokemon Red/Pokemon Blue</td>\n",
       "      <td>GB</td>\n",
       "      <td>1996.0</td>\n",
       "      <td>Role-Playing</td>\n",
       "      <td>11.27</td>\n",
       "      <td>8.89</td>\n",
       "      <td>10.22</td>\n",
       "      <td>1.00</td>\n",
       "      <td>NaN</td>\n",
       "      <td>NaN</td>\n",
       "      <td>NaN</td>\n",
       "    </tr>\n",
       "  </tbody>\n",
       "</table>\n",
       "</div>"
      ],
      "text/plain": [
       "                       name platform  year_of_release         genre  na_sales  \\\n",
       "0                Wii Sports      Wii           2006.0        Sports     41.36   \n",
       "1         Super Mario Bros.      NES           1985.0      Platform     29.08   \n",
       "2            Mario Kart Wii      Wii           2008.0        Racing     15.68   \n",
       "3         Wii Sports Resort      Wii           2009.0        Sports     15.61   \n",
       "4  Pokemon Red/Pokemon Blue       GB           1996.0  Role-Playing     11.27   \n",
       "\n",
       "   eu_sales  jp_sales  other_sales  critic_score user_score rating  \n",
       "0     28.96      3.77         8.45          76.0          8      E  \n",
       "1      3.58      6.81         0.77           NaN        NaN    NaN  \n",
       "2     12.76      3.79         3.29          82.0        8.3      E  \n",
       "3     10.93      3.28         2.95          80.0          8      E  \n",
       "4      8.89     10.22         1.00           NaN        NaN    NaN  "
      ]
     },
     "execution_count": 2,
     "metadata": {},
     "output_type": "execute_result"
    }
   ],
   "source": [
    "# Заменим названия столбцов (приведем их к нижнему регистру)\n",
    "\n",
    "data.rename(columns = {'Name':'name', 'Platform':'platform', 'Year_of_Release':'year_of_release', 'Genre':'genre',\n",
    "               'NA_sales':'na_sales', 'EU_sales': 'eu_sales', 'JP_sales': 'jp_sales', 'Other_sales': 'other_sales',\n",
    "                             'Critic_Score':'critic_score', 'User_Score': 'user_score', 'Rating': 'rating'}, inplace = True)\n",
    "\n",
    "data.head()"
   ]
  },
  {
   "cell_type": "code",
   "execution_count": 3,
   "metadata": {},
   "outputs": [
    {
     "data": {
      "text/plain": [
       "0        2006\n",
       "1        1985\n",
       "2        2008\n",
       "3        2009\n",
       "4        1996\n",
       "         ... \n",
       "16710    2016\n",
       "16711    2006\n",
       "16712    2016\n",
       "16713    2003\n",
       "16714    2016\n",
       "Name: year_of_release, Length: 16715, dtype: int64"
      ]
     },
     "execution_count": 3,
     "metadata": {},
     "output_type": "execute_result"
    }
   ],
   "source": [
    "# Преобразуем данные в нужные типы.\n",
    "# Посмотрим какие значения есть в столбце year_of_release и приведем их к одному типу (int). Возьмем int для удобства подсчетов.\n",
    "\n",
    "#print(data['year_of_release'].unique())\n",
    "data['year_of_release'] = data['year_of_release'].fillna(0)\n",
    "data['year_of_release'] = data['year_of_release'].astype(int)\n",
    "pd.to_numeric(data['year_of_release'], errors ='raise')\n"
   ]
  },
  {
   "cell_type": "code",
   "execution_count": 4,
   "metadata": {},
   "outputs": [],
   "source": [
    "# tbd = to be discovered, т.е. нельзя оставлять определенную цифру, поэтому для удобства расчетов поставим 0\n",
    "\n",
    "data['user_score'] = data['user_score'].fillna(0)\n",
    "data['user_score'] = data['user_score'].replace('tbd', 0)\n",
    "\n",
    "\n",
    "data['critic_score'] = data['critic_score'].fillna(0)\n",
    "data['rating'] = data['rating'].fillna(0)\n",
    "\n",
    "#print (data['user_score'].unique())\n",
    "#print (data['critic_score'].unique())"
   ]
  },
  {
   "cell_type": "code",
   "execution_count": 5,
   "metadata": {},
   "outputs": [
    {
     "data": {
      "text/html": [
       "<div>\n",
       "<style scoped>\n",
       "    .dataframe tbody tr th:only-of-type {\n",
       "        vertical-align: middle;\n",
       "    }\n",
       "\n",
       "    .dataframe tbody tr th {\n",
       "        vertical-align: top;\n",
       "    }\n",
       "\n",
       "    .dataframe thead th {\n",
       "        text-align: right;\n",
       "    }\n",
       "</style>\n",
       "<table border=\"1\" class=\"dataframe\">\n",
       "  <thead>\n",
       "    <tr style=\"text-align: right;\">\n",
       "      <th></th>\n",
       "      <th>name</th>\n",
       "      <th>platform</th>\n",
       "      <th>year_of_release</th>\n",
       "      <th>genre</th>\n",
       "      <th>na_sales</th>\n",
       "      <th>eu_sales</th>\n",
       "      <th>jp_sales</th>\n",
       "      <th>other_sales</th>\n",
       "      <th>critic_score</th>\n",
       "      <th>user_score</th>\n",
       "      <th>rating</th>\n",
       "      <th>all_sales</th>\n",
       "    </tr>\n",
       "  </thead>\n",
       "  <tbody>\n",
       "    <tr>\n",
       "      <th>0</th>\n",
       "      <td>Wii Sports</td>\n",
       "      <td>Wii</td>\n",
       "      <td>2006</td>\n",
       "      <td>Sports</td>\n",
       "      <td>41.36</td>\n",
       "      <td>28.96</td>\n",
       "      <td>3.77</td>\n",
       "      <td>8.45</td>\n",
       "      <td>76.0</td>\n",
       "      <td>8</td>\n",
       "      <td>E</td>\n",
       "      <td>82.54</td>\n",
       "    </tr>\n",
       "    <tr>\n",
       "      <th>1</th>\n",
       "      <td>Super Mario Bros.</td>\n",
       "      <td>NES</td>\n",
       "      <td>1985</td>\n",
       "      <td>Platform</td>\n",
       "      <td>29.08</td>\n",
       "      <td>3.58</td>\n",
       "      <td>6.81</td>\n",
       "      <td>0.77</td>\n",
       "      <td>0.0</td>\n",
       "      <td>0</td>\n",
       "      <td>0</td>\n",
       "      <td>40.24</td>\n",
       "    </tr>\n",
       "    <tr>\n",
       "      <th>2</th>\n",
       "      <td>Mario Kart Wii</td>\n",
       "      <td>Wii</td>\n",
       "      <td>2008</td>\n",
       "      <td>Racing</td>\n",
       "      <td>15.68</td>\n",
       "      <td>12.76</td>\n",
       "      <td>3.79</td>\n",
       "      <td>3.29</td>\n",
       "      <td>82.0</td>\n",
       "      <td>8.3</td>\n",
       "      <td>E</td>\n",
       "      <td>35.52</td>\n",
       "    </tr>\n",
       "    <tr>\n",
       "      <th>3</th>\n",
       "      <td>Wii Sports Resort</td>\n",
       "      <td>Wii</td>\n",
       "      <td>2009</td>\n",
       "      <td>Sports</td>\n",
       "      <td>15.61</td>\n",
       "      <td>10.93</td>\n",
       "      <td>3.28</td>\n",
       "      <td>2.95</td>\n",
       "      <td>80.0</td>\n",
       "      <td>8</td>\n",
       "      <td>E</td>\n",
       "      <td>32.77</td>\n",
       "    </tr>\n",
       "    <tr>\n",
       "      <th>4</th>\n",
       "      <td>Pokemon Red/Pokemon Blue</td>\n",
       "      <td>GB</td>\n",
       "      <td>1996</td>\n",
       "      <td>Role-Playing</td>\n",
       "      <td>11.27</td>\n",
       "      <td>8.89</td>\n",
       "      <td>10.22</td>\n",
       "      <td>1.00</td>\n",
       "      <td>0.0</td>\n",
       "      <td>0</td>\n",
       "      <td>0</td>\n",
       "      <td>31.38</td>\n",
       "    </tr>\n",
       "  </tbody>\n",
       "</table>\n",
       "</div>"
      ],
      "text/plain": [
       "                       name platform  year_of_release         genre  na_sales  \\\n",
       "0                Wii Sports      Wii             2006        Sports     41.36   \n",
       "1         Super Mario Bros.      NES             1985      Platform     29.08   \n",
       "2            Mario Kart Wii      Wii             2008        Racing     15.68   \n",
       "3         Wii Sports Resort      Wii             2009        Sports     15.61   \n",
       "4  Pokemon Red/Pokemon Blue       GB             1996  Role-Playing     11.27   \n",
       "\n",
       "   eu_sales  jp_sales  other_sales  critic_score user_score rating  all_sales  \n",
       "0     28.96      3.77         8.45          76.0          8      E      82.54  \n",
       "1      3.58      6.81         0.77           0.0          0      0      40.24  \n",
       "2     12.76      3.79         3.29          82.0        8.3      E      35.52  \n",
       "3     10.93      3.28         2.95          80.0          8      E      32.77  \n",
       "4      8.89     10.22         1.00           0.0          0      0      31.38  "
      ]
     },
     "execution_count": 5,
     "metadata": {},
     "output_type": "execute_result"
    }
   ],
   "source": [
    "# Посчитаем суммарные продажи во всех регионах и запишем их в отдельный столбец\n",
    "\n",
    "data['all_sales'] = data['na_sales'] + data['eu_sales'] +  data['jp_sales'] + data['other_sales']\n",
    "data.head()"
   ]
  },
  {
   "cell_type": "markdown",
   "metadata": {},
   "source": [
    "**Промежуточные выводы**\n",
    "\n",
    "После всех преобразований мы получили таблицу, в которой есть понятные данные по годам, нет значений nan и есть столбец со всеми продажами.\n",
    "\n",
    "Мы должны помнить, что у нас есть пропущенные значения в полях critic_score, user_score и rating, где они заменены нулевыми значениями. У нас нет достаточной информации, чтобы их восполнить."
   ]
  },
  {
   "cell_type": "markdown",
   "metadata": {},
   "source": [
    "### Шаг 3. Проведем исследовательский анализ данных \n",
    "\n",
    "* Посмотрим сколько игр выпускалось в разные годы. Важны ли данные за все периоды?\n",
    "* Посмотрим, как менялись продажи по платформам. Выберем платформы с наибольшими суммарными продажами и постройте распределение по годам. За какой характерный срок появляются новые и исчезают старые платформы?\n",
    "* Какие платформы лидируют по продажам, растут или падают? Выберем несколько потенциально прибыльных платформ.\n",
    "* Построем график «ящик с усами» по глобальным продажам каждой игры и разбивкой по платформам. Велика ли разница в продажах? А в средних продажах на разных платформах? Опишем результат.\n",
    "* Посмотрим, как влияют на продажи внутри одной популярной платформы отзывы пользователей и критиков. Построем диаграмму рассеяния и посчитаем корреляцию между отзывами и продажами. Сформулируем выводы.\n",
    "* Соотнесем выводы с продажами игр на других платформах.\n",
    "* Посмотрим на общее распределение игр по жанрам. Что можно сказать о самых прибыльных жанрах? Выделяются ли жанры с высокими и низкими продажами?"
   ]
  },
  {
   "cell_type": "code",
   "execution_count": 6,
   "metadata": {},
   "outputs": [
    {
     "name": "stderr",
     "output_type": "stream",
     "text": [
      "/Users/armineakhverdyan/opt/anaconda3/lib/python3.8/site-packages/seaborn/distributions.py:2551: FutureWarning: `distplot` is a deprecated function and will be removed in a future version. Please adapt your code to use either `displot` (a figure-level function with similar flexibility) or `histplot` (an axes-level function for histograms).\n",
      "  warnings.warn(msg, FutureWarning)\n"
     ]
    },
    {
     "data": {
      "text/plain": [
       "<AxesSubplot:xlabel='Количество выпущенных игр в разные годы'>"
      ]
     },
     "execution_count": 6,
     "metadata": {},
     "output_type": "execute_result"
    },
    {
     "data": {
      "image/png": "[encoded data removed]",
      "text/plain": [
       "<Figure size 432x288 with 1 Axes>"
      ]
     },
     "metadata": {
      "needs_background": "light"
     },
     "output_type": "display_data"
    }
   ],
   "source": [
    "# Посмотрим, сколько игр выпускалось в разные годы\n",
    "\n",
    "sns.distplot(data['year_of_release'], kde = False, hist_kws={\"range\":(1980,2016)}, bins = 10, color=\"g\", \n",
    "             axlabel=\"Количество выпущенных игр в разные годы\")"
   ]
  },
  {
   "cell_type": "code",
   "execution_count": 7,
   "metadata": {},
   "outputs": [
    {
     "name": "stdout",
     "output_type": "stream",
     "text": [
      "Распределение выручки в период с 2006 по 2016 гг. year_of_release\n",
      "2006    517.71\n",
      "2007    604.75\n",
      "2008    671.50\n",
      "2009    658.82\n",
      "2010    590.13\n",
      "2011    507.58\n",
      "2012    355.84\n",
      "2013    361.24\n",
      "2014    331.53\n",
      "2015    267.98\n",
      "2016    129.94\n",
      "Name: all_sales, dtype: float64\n",
      " - - -\n",
      "Распределение количества выпущенных игр с 2006 по 2016 гг. year_of_release\n",
      "2006    1006\n",
      "2007    1197\n",
      "2008    1427\n",
      "2009    1426\n",
      "2010    1255\n",
      "2011    1136\n",
      "2012     653\n",
      "2013     544\n",
      "2014     581\n",
      "2015     606\n",
      "2016     502\n",
      "Name: name, dtype: int64\n"
     ]
    },
    {
     "name": "stderr",
     "output_type": "stream",
     "text": [
      "/Users/armineakhverdyan/opt/anaconda3/lib/python3.8/site-packages/seaborn/distributions.py:2551: FutureWarning: `distplot` is a deprecated function and will be removed in a future version. Please adapt your code to use either `displot` (a figure-level function with similar flexibility) or `histplot` (an axes-level function for histograms).\n",
      "  warnings.warn(msg, FutureWarning)\n"
     ]
    },
    {
     "data": {
      "text/plain": [
       "<AxesSubplot:xlabel='Гистограмма количества выпущенных игр (зеленым) + график их прибыли (синим)'>"
      ]
     },
     "execution_count": 7,
     "metadata": {},
     "output_type": "execute_result"
    },
    {
     "data": {
      "image/png": "[encoded data removed]",
      "text/plain": [
       "<Figure size 432x288 with 1 Axes>"
      ]
     },
     "metadata": {
      "needs_background": "light"
     },
     "output_type": "display_data"
    }
   ],
   "source": [
    "# Cузим данные до последних 10 лет, изучать спрос ранее этого периода нет смысла.\n",
    "# Если взять дата-сет меньше, мы можем не увидеть взлеты и падения разных платформ, проверить их устойчивость на рынке.\n",
    "\n",
    "current_years = data.query('year_of_release > 2005')\n",
    "platforms_grouped_by_years = current_years.groupby('year_of_release')['all_sales'].sum()\n",
    "games_grouped_by_years = current_years.groupby('year_of_release')['name'].count()\n",
    "print('Распределение выручки в период с 2006 по 2016 гг.', platforms_grouped_by_years)\n",
    "print(' - - -')\n",
    "print('Распределение количества выпущенных игр с 2006 по 2016 гг.', games_grouped_by_years)\n",
    "\n",
    "platforms_grouped_by_years.plot()\n",
    "sns.distplot(data['year_of_release'], kde = False, bins = 10,  hist_kws={\"range\":(2006,2016)}, color=\"g\", \n",
    "             axlabel=\"Гистограмма количества выпущенных игр (зеленым) + график их прибыли (синим)\")\n"
   ]
  },
  {
   "cell_type": "markdown",
   "metadata": {},
   "source": [
    "Посмотрим, как менялись продажи по платформам. \n",
    "Выберем платформы с наибольшими суммарными продажами и постройте распределение по годам. \n"
   ]
  },
  {
   "cell_type": "code",
   "execution_count": 8,
   "metadata": {},
   "outputs": [
    {
     "name": "stdout",
     "output_type": "stream",
     "text": [
      "Самые прибыльные платформы с 2006 по 2016 гг. platform\n",
      "X360    952.99\n",
      "PS3     931.34\n",
      "Wii     891.18\n",
      "DS      655.35\n",
      "PS4     314.14\n",
      "PS2     265.80\n",
      "3DS     257.81\n",
      "PSP     238.63\n",
      "PC      163.42\n",
      "XOne    159.32\n",
      "Name: all_sales, dtype: float64\n"
     ]
    },
    {
     "data": {
      "text/plain": [
       "<seaborn.axisgrid.FacetGrid at 0x7fa9e057ab20>"
      ]
     },
     "execution_count": 8,
     "metadata": {},
     "output_type": "execute_result"
    },
    {
     "data": {
      "image/png": "[encoded data removed]",
      "text/plain": [
       "<Figure size 427.725x360 with 1 Axes>"
      ]
     },
     "metadata": {},
     "output_type": "display_data"
    }
   ],
   "source": [
    "top_platforms = current_years.groupby('platform').sum().sort_values(by = 'all_sales', ascending = False).head(10)\n",
    "print('Самые прибыльные платформы с 2006 по 2016 гг.', top_platforms['all_sales'])\n",
    "\n",
    "sns.set()\n",
    "sns.relplot(x=\"year_of_release\", y=\"all_sales\", hue=\"platform\", data=current_years)"
   ]
  },
  {
   "cell_type": "markdown",
   "metadata": {},
   "source": [
    "Самой прибыльной за все время анализа можно смело считать X360, затем идет PS3 и Wii.\n",
    "Самый яркий успех (и отрыв от остальных платформ) мы видим у Wii в 2006 г. В 2007 и в 2008 ситуация повторяется, но уже без такого большого отрыва. После 2010 все платформы идут практически ровно, но чаще лидируют PS3 и PS4."
   ]
  },
  {
   "cell_type": "code",
   "execution_count": 9,
   "metadata": {},
   "outputs": [
    {
     "name": "stdout",
     "output_type": "stream",
     "text": [
      "platform           3DS    DC      DS   GBA     GC     PC     PS2     PS3  \\\n",
      "year_of_release                                                            \n",
      "2006               NaN   NaN  119.81  5.28  11.26   2.85  103.42   20.96   \n",
      "2007               NaN  0.02  146.94  3.40   0.27   9.28   75.99   73.19   \n",
      "2008               NaN  0.04  145.31   NaN    NaN  12.42   53.90  118.52   \n",
      "2009               NaN   NaN  119.54   NaN    NaN  16.91   26.40  130.93   \n",
      "2010               NaN   NaN   85.02   NaN    NaN  24.28    5.64  142.17   \n",
      "2011             63.20   NaN   26.18   NaN    NaN  35.03    0.45  156.78   \n",
      "2012             51.36   NaN   11.01   NaN    NaN  23.22     NaN  107.36   \n",
      "2013             56.57   NaN    1.54   NaN    NaN  12.38     NaN  113.25   \n",
      "2014             43.76   NaN     NaN   NaN    NaN  13.28     NaN   47.76   \n",
      "2015             27.78   NaN     NaN   NaN    NaN   8.52     NaN   16.82   \n",
      "2016             15.14   NaN     NaN   NaN    NaN   5.25     NaN    3.60   \n",
      "\n",
      "platform            PS4    PSP    PSV     Wii   WiiU    X360     XB   XOne  \n",
      "year_of_release                                                             \n",
      "2006                NaN  55.32    NaN  137.15    NaN   51.62  10.04    NaN  \n",
      "2007                NaN  46.93    NaN  152.77    NaN   95.41   0.55    NaN  \n",
      "2008                NaN  34.55    NaN  171.32    NaN  135.26   0.18    NaN  \n",
      "2009                NaN  37.78    NaN  206.97    NaN  120.29    NaN    NaN  \n",
      "2010                NaN  35.04    NaN  127.95    NaN  170.03    NaN    NaN  \n",
      "2011                NaN  17.82   4.63   59.65    NaN  143.84    NaN    NaN  \n",
      "2012                NaN   7.69  16.19   21.71  17.56   99.74    NaN    NaN  \n",
      "2013              25.99   3.14  10.59    8.59  21.65   88.58    NaN  18.96  \n",
      "2014             100.00   0.24  11.90    3.75  22.03   34.74    NaN  54.07  \n",
      "2015             118.90   0.12   6.25    1.14  16.35   11.96    NaN  60.14  \n",
      "2016              69.25    NaN   4.25    0.18   4.60    1.52    NaN  26.15  \n"
     ]
    },
    {
     "data": {
      "text/html": [
       "<div>\n",
       "<style scoped>\n",
       "    .dataframe tbody tr th:only-of-type {\n",
       "        vertical-align: middle;\n",
       "    }\n",
       "\n",
       "    .dataframe tbody tr th {\n",
       "        vertical-align: top;\n",
       "    }\n",
       "\n",
       "    .dataframe thead th {\n",
       "        text-align: right;\n",
       "    }\n",
       "</style>\n",
       "<table border=\"1\" class=\"dataframe\">\n",
       "  <thead>\n",
       "    <tr style=\"text-align: right;\">\n",
       "      <th>platform</th>\n",
       "      <th>3DS</th>\n",
       "      <th>DC</th>\n",
       "      <th>DS</th>\n",
       "      <th>GBA</th>\n",
       "      <th>GC</th>\n",
       "      <th>PC</th>\n",
       "      <th>PS2</th>\n",
       "      <th>PS3</th>\n",
       "      <th>PS4</th>\n",
       "      <th>PSP</th>\n",
       "      <th>PSV</th>\n",
       "      <th>Wii</th>\n",
       "      <th>WiiU</th>\n",
       "      <th>X360</th>\n",
       "      <th>XB</th>\n",
       "      <th>XOne</th>\n",
       "    </tr>\n",
       "    <tr>\n",
       "      <th>year_of_release</th>\n",
       "      <th></th>\n",
       "      <th></th>\n",
       "      <th></th>\n",
       "      <th></th>\n",
       "      <th></th>\n",
       "      <th></th>\n",
       "      <th></th>\n",
       "      <th></th>\n",
       "      <th></th>\n",
       "      <th></th>\n",
       "      <th></th>\n",
       "      <th></th>\n",
       "      <th></th>\n",
       "      <th></th>\n",
       "      <th></th>\n",
       "      <th></th>\n",
       "    </tr>\n",
       "  </thead>\n",
       "  <tbody>\n",
       "    <tr>\n",
       "      <th>2006</th>\n",
       "      <td>NaN</td>\n",
       "      <td>NaN</td>\n",
       "      <td>119.81</td>\n",
       "      <td>5.28</td>\n",
       "      <td>11.26</td>\n",
       "      <td>2.85</td>\n",
       "      <td>103.42</td>\n",
       "      <td>20.96</td>\n",
       "      <td>NaN</td>\n",
       "      <td>55.32</td>\n",
       "      <td>NaN</td>\n",
       "      <td>137.15</td>\n",
       "      <td>NaN</td>\n",
       "      <td>51.62</td>\n",
       "      <td>10.04</td>\n",
       "      <td>NaN</td>\n",
       "    </tr>\n",
       "    <tr>\n",
       "      <th>2007</th>\n",
       "      <td>NaN</td>\n",
       "      <td>0.02</td>\n",
       "      <td>146.94</td>\n",
       "      <td>3.40</td>\n",
       "      <td>0.27</td>\n",
       "      <td>9.28</td>\n",
       "      <td>75.99</td>\n",
       "      <td>73.19</td>\n",
       "      <td>NaN</td>\n",
       "      <td>46.93</td>\n",
       "      <td>NaN</td>\n",
       "      <td>152.77</td>\n",
       "      <td>NaN</td>\n",
       "      <td>95.41</td>\n",
       "      <td>0.55</td>\n",
       "      <td>NaN</td>\n",
       "    </tr>\n",
       "    <tr>\n",
       "      <th>2008</th>\n",
       "      <td>NaN</td>\n",
       "      <td>0.04</td>\n",
       "      <td>145.31</td>\n",
       "      <td>NaN</td>\n",
       "      <td>NaN</td>\n",
       "      <td>12.42</td>\n",
       "      <td>53.90</td>\n",
       "      <td>118.52</td>\n",
       "      <td>NaN</td>\n",
       "      <td>34.55</td>\n",
       "      <td>NaN</td>\n",
       "      <td>171.32</td>\n",
       "      <td>NaN</td>\n",
       "      <td>135.26</td>\n",
       "      <td>0.18</td>\n",
       "      <td>NaN</td>\n",
       "    </tr>\n",
       "    <tr>\n",
       "      <th>2009</th>\n",
       "      <td>NaN</td>\n",
       "      <td>NaN</td>\n",
       "      <td>119.54</td>\n",
       "      <td>NaN</td>\n",
       "      <td>NaN</td>\n",
       "      <td>16.91</td>\n",
       "      <td>26.40</td>\n",
       "      <td>130.93</td>\n",
       "      <td>NaN</td>\n",
       "      <td>37.78</td>\n",
       "      <td>NaN</td>\n",
       "      <td>206.97</td>\n",
       "      <td>NaN</td>\n",
       "      <td>120.29</td>\n",
       "      <td>NaN</td>\n",
       "      <td>NaN</td>\n",
       "    </tr>\n",
       "    <tr>\n",
       "      <th>2010</th>\n",
       "      <td>NaN</td>\n",
       "      <td>NaN</td>\n",
       "      <td>85.02</td>\n",
       "      <td>NaN</td>\n",
       "      <td>NaN</td>\n",
       "      <td>24.28</td>\n",
       "      <td>5.64</td>\n",
       "      <td>142.17</td>\n",
       "      <td>NaN</td>\n",
       "      <td>35.04</td>\n",
       "      <td>NaN</td>\n",
       "      <td>127.95</td>\n",
       "      <td>NaN</td>\n",
       "      <td>170.03</td>\n",
       "      <td>NaN</td>\n",
       "      <td>NaN</td>\n",
       "    </tr>\n",
       "    <tr>\n",
       "      <th>2011</th>\n",
       "      <td>63.20</td>\n",
       "      <td>NaN</td>\n",
       "      <td>26.18</td>\n",
       "      <td>NaN</td>\n",
       "      <td>NaN</td>\n",
       "      <td>35.03</td>\n",
       "      <td>0.45</td>\n",
       "      <td>156.78</td>\n",
       "      <td>NaN</td>\n",
       "      <td>17.82</td>\n",
       "      <td>4.63</td>\n",
       "      <td>59.65</td>\n",
       "      <td>NaN</td>\n",
       "      <td>143.84</td>\n",
       "      <td>NaN</td>\n",
       "      <td>NaN</td>\n",
       "    </tr>\n",
       "    <tr>\n",
       "      <th>2012</th>\n",
       "      <td>51.36</td>\n",
       "      <td>NaN</td>\n",
       "      <td>11.01</td>\n",
       "      <td>NaN</td>\n",
       "      <td>NaN</td>\n",
       "      <td>23.22</td>\n",
       "      <td>NaN</td>\n",
       "      <td>107.36</td>\n",
       "      <td>NaN</td>\n",
       "      <td>7.69</td>\n",
       "      <td>16.19</td>\n",
       "      <td>21.71</td>\n",
       "      <td>17.56</td>\n",
       "      <td>99.74</td>\n",
       "      <td>NaN</td>\n",
       "      <td>NaN</td>\n",
       "    </tr>\n",
       "    <tr>\n",
       "      <th>2013</th>\n",
       "      <td>56.57</td>\n",
       "      <td>NaN</td>\n",
       "      <td>1.54</td>\n",
       "      <td>NaN</td>\n",
       "      <td>NaN</td>\n",
       "      <td>12.38</td>\n",
       "      <td>NaN</td>\n",
       "      <td>113.25</td>\n",
       "      <td>25.99</td>\n",
       "      <td>3.14</td>\n",
       "      <td>10.59</td>\n",
       "      <td>8.59</td>\n",
       "      <td>21.65</td>\n",
       "      <td>88.58</td>\n",
       "      <td>NaN</td>\n",
       "      <td>18.96</td>\n",
       "    </tr>\n",
       "    <tr>\n",
       "      <th>2014</th>\n",
       "      <td>43.76</td>\n",
       "      <td>NaN</td>\n",
       "      <td>NaN</td>\n",
       "      <td>NaN</td>\n",
       "      <td>NaN</td>\n",
       "      <td>13.28</td>\n",
       "      <td>NaN</td>\n",
       "      <td>47.76</td>\n",
       "      <td>100.00</td>\n",
       "      <td>0.24</td>\n",
       "      <td>11.90</td>\n",
       "      <td>3.75</td>\n",
       "      <td>22.03</td>\n",
       "      <td>34.74</td>\n",
       "      <td>NaN</td>\n",
       "      <td>54.07</td>\n",
       "    </tr>\n",
       "    <tr>\n",
       "      <th>2015</th>\n",
       "      <td>27.78</td>\n",
       "      <td>NaN</td>\n",
       "      <td>NaN</td>\n",
       "      <td>NaN</td>\n",
       "      <td>NaN</td>\n",
       "      <td>8.52</td>\n",
       "      <td>NaN</td>\n",
       "      <td>16.82</td>\n",
       "      <td>118.90</td>\n",
       "      <td>0.12</td>\n",
       "      <td>6.25</td>\n",
       "      <td>1.14</td>\n",
       "      <td>16.35</td>\n",
       "      <td>11.96</td>\n",
       "      <td>NaN</td>\n",
       "      <td>60.14</td>\n",
       "    </tr>\n",
       "    <tr>\n",
       "      <th>2016</th>\n",
       "      <td>15.14</td>\n",
       "      <td>NaN</td>\n",
       "      <td>NaN</td>\n",
       "      <td>NaN</td>\n",
       "      <td>NaN</td>\n",
       "      <td>5.25</td>\n",
       "      <td>NaN</td>\n",
       "      <td>3.60</td>\n",
       "      <td>69.25</td>\n",
       "      <td>NaN</td>\n",
       "      <td>4.25</td>\n",
       "      <td>0.18</td>\n",
       "      <td>4.60</td>\n",
       "      <td>1.52</td>\n",
       "      <td>NaN</td>\n",
       "      <td>26.15</td>\n",
       "    </tr>\n",
       "  </tbody>\n",
       "</table>\n",
       "</div>"
      ],
      "text/plain": [
       "platform           3DS    DC      DS   GBA     GC     PC     PS2     PS3  \\\n",
       "year_of_release                                                            \n",
       "2006               NaN   NaN  119.81  5.28  11.26   2.85  103.42   20.96   \n",
       "2007               NaN  0.02  146.94  3.40   0.27   9.28   75.99   73.19   \n",
       "2008               NaN  0.04  145.31   NaN    NaN  12.42   53.90  118.52   \n",
       "2009               NaN   NaN  119.54   NaN    NaN  16.91   26.40  130.93   \n",
       "2010               NaN   NaN   85.02   NaN    NaN  24.28    5.64  142.17   \n",
       "2011             63.20   NaN   26.18   NaN    NaN  35.03    0.45  156.78   \n",
       "2012             51.36   NaN   11.01   NaN    NaN  23.22     NaN  107.36   \n",
       "2013             56.57   NaN    1.54   NaN    NaN  12.38     NaN  113.25   \n",
       "2014             43.76   NaN     NaN   NaN    NaN  13.28     NaN   47.76   \n",
       "2015             27.78   NaN     NaN   NaN    NaN   8.52     NaN   16.82   \n",
       "2016             15.14   NaN     NaN   NaN    NaN   5.25     NaN    3.60   \n",
       "\n",
       "platform            PS4    PSP    PSV     Wii   WiiU    X360     XB   XOne  \n",
       "year_of_release                                                             \n",
       "2006                NaN  55.32    NaN  137.15    NaN   51.62  10.04    NaN  \n",
       "2007                NaN  46.93    NaN  152.77    NaN   95.41   0.55    NaN  \n",
       "2008                NaN  34.55    NaN  171.32    NaN  135.26   0.18    NaN  \n",
       "2009                NaN  37.78    NaN  206.97    NaN  120.29    NaN    NaN  \n",
       "2010                NaN  35.04    NaN  127.95    NaN  170.03    NaN    NaN  \n",
       "2011                NaN  17.82   4.63   59.65    NaN  143.84    NaN    NaN  \n",
       "2012                NaN   7.69  16.19   21.71  17.56   99.74    NaN    NaN  \n",
       "2013              25.99   3.14  10.59    8.59  21.65   88.58    NaN  18.96  \n",
       "2014             100.00   0.24  11.90    3.75  22.03   34.74    NaN  54.07  \n",
       "2015             118.90   0.12   6.25    1.14  16.35   11.96    NaN  60.14  \n",
       "2016              69.25    NaN   4.25    0.18   4.60    1.52    NaN  26.15  "
      ]
     },
     "execution_count": 9,
     "metadata": {},
     "output_type": "execute_result"
    }
   ],
   "source": [
    "platforms_by_years = current_years.pivot_table(index='year_of_release', columns='platform', values='all_sales', aggfunc= 'sum')\n",
    "print(platforms_by_years)\n",
    "platforms_by_years"
   ]
  },
  {
   "cell_type": "code",
   "execution_count": 10,
   "metadata": {},
   "outputs": [
    {
     "name": "stdout",
     "output_type": "stream",
     "text": [
      "В среднем платформы живут всего 5 лет.\n"
     ]
    }
   ],
   "source": [
    "#За какой характерный срок появляются новые и исчезают старые платформы?\n",
    "\n",
    "min_year_of_release = current_years.pivot_table(index='platform', values='year_of_release', aggfunc= 'min')\n",
    "max_year_of_release = current_years.pivot_table(index='platform', values='year_of_release', aggfunc= 'max')\n",
    "platform_life = max_year_of_release - min_year_of_release\n",
    "median_platform_life = platform_life.median().astype(int)\n",
    "\n",
    "print('В среднем платформы живут всего {} лет.'.format(median_platform_life[0]))"
   ]
  },
  {
   "cell_type": "markdown",
   "metadata": {},
   "source": [
    "Какие платформы лидируют по продажам, растут или падают?\n"
   ]
  },
  {
   "cell_type": "code",
   "execution_count": 11,
   "metadata": {},
   "outputs": [
    {
     "name": "stdout",
     "output_type": "stream",
     "text": [
      "10 самых прибыльных платформ с 2006 по 2016 гг: \n",
      "          all_sales\n",
      "platform           \n",
      "X360         952.99\n",
      "PS3          931.34\n",
      "Wii          891.18\n",
      "DS           655.35\n",
      "PS4          314.14\n",
      "PS2          265.80\n",
      "3DS          257.81\n",
      "PSP          238.63\n",
      "PC           163.42\n",
      "XOne         159.32\n",
      "- - -\n",
      "10 самых убыточных платформ с 2006 по 2016 гг:\n",
      "          all_sales\n",
      "platform           \n",
      "DC             0.06\n",
      "GBA            8.68\n",
      "XB            10.77\n",
      "GC            11.53\n",
      "PSV           53.81\n",
      "WiiU          82.19\n",
      "XOne         159.32\n",
      "PC           163.42\n",
      "PSP          238.63\n",
      "3DS          257.81\n"
     ]
    }
   ],
   "source": [
    "# Платформы, которые лидируют по продажам\n",
    "platforms_sales = current_years.pivot_table(index='platform', values='all_sales', aggfunc= 'sum')\n",
    "print('10 самых прибыльных платформ с 2006 по 2016 гг: ')\n",
    "top_10_rising_platforms = platforms_sales.sort_values(by = 'all_sales', ascending = False).head(10)\n",
    "print(top_10_rising_platforms)\n",
    "\n",
    "print('- - -')\n",
    "# Платформы, которые показали меньший коммерческий успех\n",
    "failing_platforms = current_years.pivot_table(index='platform', values='all_sales', aggfunc= 'sum')\n",
    "print('10 самых убыточных платформ с 2006 по 2016 гг:')\n",
    "top_10_failing_platforms =  failing_platforms.sort_values(by = 'all_sales', ascending = True).head(10)\n",
    "print(top_10_failing_platforms)"
   ]
  },
  {
   "cell_type": "code",
   "execution_count": 12,
   "metadata": {},
   "outputs": [
    {
     "data": {
      "text/plain": [
       "Text(0.5, 1.0, 'Диаграмма размаха всех продаж игр')"
      ]
     },
     "execution_count": 12,
     "metadata": {},
     "output_type": "execute_result"
    },
    {
     "data": {
      "image/png": "[encoded data removed]",
      "text/plain": [
       "<Figure size 432x288 with 1 Axes>"
      ]
     },
     "metadata": {},
     "output_type": "display_data"
    }
   ],
   "source": [
    "#Построим график «ящик с усами» по глобальным продажам каждой игры и разбивкой по платформам. \n",
    "\n",
    "sns.boxplot( y=\"all_sales\", data = platforms_sales ).set_title('Диаграмма размаха всех продаж игр')\n"
   ]
  },
  {
   "cell_type": "markdown",
   "metadata": {},
   "source": [
    "Прибыль платформ варьируются от 50 до 400 миллионов долларов. Чаще всего они приносят 200 млн. долларов.\n",
    "Максимальные значения мы видели в таблицах выше: прибыли может не быть совсем, так и достигать в почти 900 млн. долларов."
   ]
  },
  {
   "cell_type": "code",
   "execution_count": 13,
   "metadata": {},
   "outputs": [
    {
     "data": {
      "text/plain": [
       "<seaborn.axisgrid.FacetGrid at 0x7fa9daa0f880>"
      ]
     },
     "execution_count": 13,
     "metadata": {},
     "output_type": "execute_result"
    },
    {
     "data": {
      "image/png": "[encoded data removed]",
      "text/plain": [
       "<Figure size 720x1440 with 1 Axes>"
      ]
     },
     "metadata": {},
     "output_type": "display_data"
    }
   ],
   "source": [
    "sns.catplot(x = 'platform', y = 'all_sales', data = current_years, kind = 'box', height = 20, aspect = 0.5)"
   ]
  },
  {
   "cell_type": "markdown",
   "metadata": {},
   "source": [
    "В этом ящике с усами выше мы можем подробнее увидеть продажи каждой из платформ. \n",
    "Видим вырвавшиеся вперед значения уже знакомой нам платформы Wii, дальше идут DS, X360, PS3, PS4. "
   ]
  },
  {
   "cell_type": "code",
   "execution_count": 14,
   "metadata": {},
   "outputs": [
    {
     "name": "stdout",
     "output_type": "stream",
     "text": [
      "          all_sales\n",
      "platform           \n",
      "3DS        0.503535\n",
      "DC         0.030000\n",
      "DS         0.331152\n",
      "GBA        0.192889\n",
      "GC         0.262045\n",
      "PC         0.210593\n",
      "PS2        0.330186\n",
      "PS3        0.713124\n",
      "PS4        0.801378\n",
      "PSP        0.220342\n",
      "PSV        0.125431\n",
      "Wii        0.692986\n",
      "WiiU       0.559116\n",
      "X360       0.785000\n",
      "XB         0.163182\n",
      "XOne       0.645020\n",
      "Средняя прибыль платформ за все время работы составляет: all_sales    0.410374\n",
      "dtype: float64 млн. долларов\n"
     ]
    },
    {
     "data": {
      "image/png": "[encoded data removed]",
      "text/plain": [
       "<Figure size 432x288 with 1 Axes>"
      ]
     },
     "metadata": {},
     "output_type": "display_data"
    }
   ],
   "source": [
    "#Велика ли разница в продажах? \n",
    "\n",
    "platforms_mean_sales = current_years.pivot_table(index='platform', values='all_sales', aggfunc= 'mean')\n",
    "print(platforms_mean_sales)\n",
    "platforms_mean_sales.plot()\n",
    "mean_sales = platforms_mean_sales.mean()\n",
    "\n",
    "print('Средняя прибыль платформ за все время работы составляет: {} млн. долларов'.format(mean_sales))"
   ]
  },
  {
   "cell_type": "markdown",
   "metadata": {},
   "source": [
    "Для рекомендаций на следующий год я бы советовала приглядеться к прибыли платформ за последние три года (график top_platforms и сводная таблица platforms_by_years в самом начале этого блока).\n",
    "\n",
    "PS4, WiiU, Xone показывают хорошие результаты, а вот популярность Wii, 3DS, PC, PS3, PSV, X360 идет на спад - они уже были популярны довольно долгое время и их жизненный цикл на рынке похоже приходит к концу. "
   ]
  },
  {
   "cell_type": "code",
   "execution_count": 15,
   "metadata": {},
   "outputs": [
    {
     "name": "stdout",
     "output_type": "stream",
     "text": [
      "                    name platform  year_of_release     genre  na_sales  \\\n",
      "0             Wii Sports      Wii             2006    Sports     41.36   \n",
      "2         Mario Kart Wii      Wii             2008    Racing     15.68   \n",
      "3      Wii Sports Resort      Wii             2009    Sports     15.61   \n",
      "6  New Super Mario Bros.       DS             2006  Platform     11.28   \n",
      "7               Wii Play      Wii             2006      Misc     13.96   \n",
      "\n",
      "   eu_sales  jp_sales  other_sales  critic_score user_score rating  all_sales  \\\n",
      "0     28.96      3.77         8.45          76.0          8      E      82.54   \n",
      "2     12.76      3.79         3.29          82.0        8.3      E      35.52   \n",
      "3     10.93      3.28         2.95          80.0          8      E      32.77   \n",
      "6      9.14      6.50         2.88          89.0        8.5      E      29.80   \n",
      "7      9.18      2.93         2.84          58.0        6.6      E      28.91   \n",
      "\n",
      "  user_score_upd  \n",
      "0              8  \n",
      "2              0  \n",
      "3              8  \n",
      "6              0  \n",
      "7              0  \n"
     ]
    },
    {
     "name": "stderr",
     "output_type": "stream",
     "text": [
      "<ipython-input-15-dbd761d613e5>:9: SettingWithCopyWarning: \n",
      "A value is trying to be set on a copy of a slice from a DataFrame.\n",
      "Try using .loc[row_indexer,col_indexer] = value instead\n",
      "\n",
      "See the caveats in the documentation: https://pandas.pydata.org/pandas-docs/stable/user_guide/indexing.html#returning-a-view-versus-a-copy\n",
      "  current_years['user_score_upd'] = current_years.apply(number, axis = 1)\n"
     ]
    }
   ],
   "source": [
    "# Проанализируем данные, в которых есть проставленные оценки в user_score и critic_score\n",
    "\n",
    "def number(row):\n",
    "    if str(row['user_score']).isdigit() == True:\n",
    "        return row['user_score']\n",
    "    else:\n",
    "        return 0\n",
    "\n",
    "current_years['user_score_upd'] = current_years.apply(number, axis = 1)\n",
    "print(current_years.head())"
   ]
  },
  {
   "cell_type": "code",
   "execution_count": 16,
   "metadata": {},
   "outputs": [
    {
     "name": "stdout",
     "output_type": "stream",
     "text": [
      "Изучим, как влияют на продажи платформ отзывы пользователей и критиков (на примере самых популярных платформ)\n",
      "- - -\n",
      "Медианная оценка критиков и пользователей по платформе X360: 7.0\n",
      "Общая прибыль платформы  X360:  953\n",
      "- - -\n",
      "Медианная оценка критиков и пользователей по платформе PS3: 6.5\n",
      "Общая прибыль платформы  PS3:  931\n",
      "- - -\n",
      "Медианная оценка критиков и пользователей по платформе Wii: 6.5\n",
      "Общая прибыль платформы  Wii:  891\n",
      "- - -\n",
      "Медианная оценка критиков и пользователей по платформе DS: 6.5\n",
      "Общая прибыль платформы  DS:  655\n",
      "- - -\n",
      "Медианная оценка критиков и пользователей по платформе PS4: 7.0\n",
      "Общая прибыль платформы  PS4:  314\n"
     ]
    }
   ],
   "source": [
    "#Посмотрим, как влияют на продажи внутри одной популярной платформы отзывы пользователей и критиков. \n",
    "\n",
    "print('Изучим, как влияют на продажи платформ отзывы пользователей и критиков (на примере самых популярных платформ)')\n",
    "data_with_scores = current_years.query('critic_score != 0' and 'user_score_upd != 0')\n",
    "X360_scores = data_with_scores.query('platform == \"X360\"')\n",
    "PS3_scores = data_with_scores.query('platform == \"PS3\"')\n",
    "Wii_scores = data_with_scores.query('platform == \"Wii\"')\n",
    "DS_scores = data_with_scores.query('platform == \"DS\"')\n",
    "PS4_scores = data_with_scores.query('platform == \"PS4\"')\n",
    "\n",
    "# Сначала мы посчитали средние оценки критиков и пользователей и увидели, что они напоминают среднюю температуру по больнице\n",
    "# Поэтому будем обращать внимание на медианы\n",
    "# Выведем по 5 прибыльным платформам комбинированную оценку критиков и пользователей (сложим их медианы вместе и найдем среднее)\n",
    "\n",
    "print('- - -')\n",
    "print('Медианная оценка критиков и пользователей по платформе X360:', (round(X360_scores['critic_score'].median()/10) +\n",
    "                                                                       round(X360_scores['user_score_upd'].median())) /2 )  \n",
    "print('Общая прибыль платформы  X360: ', round(platforms_sales['all_sales']['X360']))\n",
    "\n",
    "print('- - -')\n",
    "print('Медианная оценка критиков и пользователей по платформе PS3:', (round(PS3_scores['critic_score'].median()/10) +\n",
    "                                                                       round(PS3_scores['user_score_upd'].median())) /2 )  \n",
    "print('Общая прибыль платформы  PS3: ', round(platforms_sales['all_sales']['PS3']))\n",
    "print('- - -')\n",
    "\n",
    "print('Медианная оценка критиков и пользователей по платформе Wii:', (round(Wii_scores['critic_score'].median()/10) +\n",
    "                                                                       round(Wii_scores['user_score_upd'].median())) /2 ) \n",
    "print('Общая прибыль платформы  Wii: ', round(platforms_sales['all_sales']['Wii']))\n",
    "print('- - -')\n",
    "\n",
    "print('Медианная оценка критиков и пользователей по платформе DS:', (round(DS_scores['critic_score'].median()/10) +\n",
    "                                                                       round(DS_scores['user_score_upd'].median())) /2 ) \n",
    "print('Общая прибыль платформы  DS: ', round(platforms_sales['all_sales']['DS']))\n",
    "\n",
    "print('- - -')\n",
    "print('Медианная оценка критиков и пользователей по платформе PS4:', (round(PS4_scores['critic_score'].median()/10) +\n",
    "                                                                       round(PS4_scores['user_score_upd'].median())) /2 ) \n",
    "print('Общая прибыль платформы  PS4: ', round(platforms_sales['all_sales']['PS4']))\n"
   ]
  },
  {
   "cell_type": "markdown",
   "metadata": {},
   "source": [
    "У платформы может быть рейтинг 7.0 и при этом прибыль в 953 млн. долларов и в 314 млн. долларов. \n",
    "Кажется, что рейтингам и оченкам не очень стоит доверять, но на всякий случай проверим есть ли корреляция между ними."
   ]
  },
  {
   "cell_type": "code",
   "execution_count": 17,
   "metadata": {},
   "outputs": [
    {
     "name": "stderr",
     "output_type": "stream",
     "text": [
      "<ipython-input-17-002d7252ee25>:3: SettingWithCopyWarning: \n",
      "A value is trying to be set on a copy of a slice from a DataFrame.\n",
      "Try using .loc[row_indexer,col_indexer] = value instead\n",
      "\n",
      "See the caveats in the documentation: https://pandas.pydata.org/pandas-docs/stable/user_guide/indexing.html#returning-a-view-versus-a-copy\n",
      "  data_with_scores['user_score'] = data_with_scores['user_score'].astype(int)\n",
      "<ipython-input-17-002d7252ee25>:4: SettingWithCopyWarning: \n",
      "A value is trying to be set on a copy of a slice from a DataFrame.\n",
      "Try using .loc[row_indexer,col_indexer] = value instead\n",
      "\n",
      "See the caveats in the documentation: https://pandas.pydata.org/pandas-docs/stable/user_guide/indexing.html#returning-a-view-versus-a-copy\n",
      "  data_with_scores['critic_score'] = data_with_scores['critic_score'].astype(int)\n",
      "<ipython-input-17-002d7252ee25>:5: SettingWithCopyWarning: \n",
      "A value is trying to be set on a copy of a slice from a DataFrame.\n",
      "Try using .loc[row_indexer,col_indexer] = value instead\n",
      "\n",
      "See the caveats in the documentation: https://pandas.pydata.org/pandas-docs/stable/user_guide/indexing.html#returning-a-view-versus-a-copy\n",
      "  data_with_scores['combined_scores'] = data_with_scores['critic_score']/10 + data_with_scores['user_score']/ 2\n"
     ]
    },
    {
     "data": {
      "text/html": [
       "<div>\n",
       "<style scoped>\n",
       "    .dataframe tbody tr th:only-of-type {\n",
       "        vertical-align: middle;\n",
       "    }\n",
       "\n",
       "    .dataframe tbody tr th {\n",
       "        vertical-align: top;\n",
       "    }\n",
       "\n",
       "    .dataframe thead th {\n",
       "        text-align: right;\n",
       "    }\n",
       "</style>\n",
       "<table border=\"1\" class=\"dataframe\">\n",
       "  <thead>\n",
       "    <tr style=\"text-align: right;\">\n",
       "      <th></th>\n",
       "      <th>name</th>\n",
       "      <th>platform</th>\n",
       "      <th>year_of_release</th>\n",
       "      <th>genre</th>\n",
       "      <th>na_sales</th>\n",
       "      <th>eu_sales</th>\n",
       "      <th>jp_sales</th>\n",
       "      <th>other_sales</th>\n",
       "      <th>critic_score</th>\n",
       "      <th>user_score</th>\n",
       "      <th>rating</th>\n",
       "      <th>all_sales</th>\n",
       "      <th>user_score_upd</th>\n",
       "      <th>combined_scores</th>\n",
       "    </tr>\n",
       "  </thead>\n",
       "  <tbody>\n",
       "    <tr>\n",
       "      <th>0</th>\n",
       "      <td>Wii Sports</td>\n",
       "      <td>Wii</td>\n",
       "      <td>2006</td>\n",
       "      <td>Sports</td>\n",
       "      <td>41.36</td>\n",
       "      <td>28.96</td>\n",
       "      <td>3.77</td>\n",
       "      <td>8.45</td>\n",
       "      <td>76</td>\n",
       "      <td>8</td>\n",
       "      <td>E</td>\n",
       "      <td>82.54</td>\n",
       "      <td>8</td>\n",
       "      <td>11.6</td>\n",
       "    </tr>\n",
       "    <tr>\n",
       "      <th>3</th>\n",
       "      <td>Wii Sports Resort</td>\n",
       "      <td>Wii</td>\n",
       "      <td>2009</td>\n",
       "      <td>Sports</td>\n",
       "      <td>15.61</td>\n",
       "      <td>10.93</td>\n",
       "      <td>3.28</td>\n",
       "      <td>2.95</td>\n",
       "      <td>80</td>\n",
       "      <td>8</td>\n",
       "      <td>E</td>\n",
       "      <td>32.77</td>\n",
       "      <td>8</td>\n",
       "      <td>12.0</td>\n",
       "    </tr>\n",
       "    <tr>\n",
       "      <th>66</th>\n",
       "      <td>Halo 4</td>\n",
       "      <td>X360</td>\n",
       "      <td>2012</td>\n",
       "      <td>Shooter</td>\n",
       "      <td>6.65</td>\n",
       "      <td>2.28</td>\n",
       "      <td>0.04</td>\n",
       "      <td>0.74</td>\n",
       "      <td>87</td>\n",
       "      <td>7</td>\n",
       "      <td>M</td>\n",
       "      <td>9.71</td>\n",
       "      <td>7</td>\n",
       "      <td>12.2</td>\n",
       "    </tr>\n",
       "    <tr>\n",
       "      <th>94</th>\n",
       "      <td>FIFA 17</td>\n",
       "      <td>PS4</td>\n",
       "      <td>2016</td>\n",
       "      <td>Sports</td>\n",
       "      <td>0.66</td>\n",
       "      <td>5.75</td>\n",
       "      <td>0.08</td>\n",
       "      <td>1.11</td>\n",
       "      <td>85</td>\n",
       "      <td>5</td>\n",
       "      <td>E</td>\n",
       "      <td>7.60</td>\n",
       "      <td>5</td>\n",
       "      <td>11.0</td>\n",
       "    </tr>\n",
       "    <tr>\n",
       "      <th>103</th>\n",
       "      <td>Just Dance</td>\n",
       "      <td>Wii</td>\n",
       "      <td>2009</td>\n",
       "      <td>Misc</td>\n",
       "      <td>3.48</td>\n",
       "      <td>2.99</td>\n",
       "      <td>0.00</td>\n",
       "      <td>0.73</td>\n",
       "      <td>49</td>\n",
       "      <td>8</td>\n",
       "      <td>E10+</td>\n",
       "      <td>7.20</td>\n",
       "      <td>8</td>\n",
       "      <td>8.9</td>\n",
       "    </tr>\n",
       "  </tbody>\n",
       "</table>\n",
       "</div>"
      ],
      "text/plain": [
       "                  name platform  year_of_release    genre  na_sales  eu_sales  \\\n",
       "0           Wii Sports      Wii             2006   Sports     41.36     28.96   \n",
       "3    Wii Sports Resort      Wii             2009   Sports     15.61     10.93   \n",
       "66              Halo 4     X360             2012  Shooter      6.65      2.28   \n",
       "94             FIFA 17      PS4             2016   Sports      0.66      5.75   \n",
       "103         Just Dance      Wii             2009     Misc      3.48      2.99   \n",
       "\n",
       "     jp_sales  other_sales  critic_score  user_score rating  all_sales  \\\n",
       "0        3.77         8.45            76           8      E      82.54   \n",
       "3        3.28         2.95            80           8      E      32.77   \n",
       "66       0.04         0.74            87           7      M       9.71   \n",
       "94       0.08         1.11            85           5      E       7.60   \n",
       "103      0.00         0.73            49           8   E10+       7.20   \n",
       "\n",
       "    user_score_upd  combined_scores  \n",
       "0                8             11.6  \n",
       "3                8             12.0  \n",
       "66               7             12.2  \n",
       "94               5             11.0  \n",
       "103              8              8.9  "
      ]
     },
     "execution_count": 17,
     "metadata": {},
     "output_type": "execute_result"
    }
   ],
   "source": [
    "#Постройте диаграмму рассеяния и посчитаем корреляцию между отзывами и продажами\n",
    "\n",
    "data_with_scores['user_score'] = data_with_scores['user_score'].astype(int)\n",
    "data_with_scores['critic_score'] = data_with_scores['critic_score'].astype(int)\n",
    "data_with_scores['combined_scores'] = data_with_scores['critic_score']/10 + data_with_scores['user_score']/ 2\n",
    "data_with_scores.head(5)"
   ]
  },
  {
   "cell_type": "code",
   "execution_count": 18,
   "metadata": {},
   "outputs": [
    {
     "name": "stdout",
     "output_type": "stream",
     "text": [
      "Корреляция между общими оценками и прибылью составила:  0.1129993268986656\n",
      "Корреляция не очень сильна: взаимосвязи между оценками и прибылью нет.\n",
      "\n",
      "Посмотрим на корреляцию между рейтингами и прибылью на платформах PS4, WiiU, Xone\n",
      "\n",
      "Корреляция между оценками и прибылью PS4 составила: 0.1964488019792073\n",
      "Корреляция между оценками и прибылью WiiU составила: 0.4454802991270377\n",
      "Корреляция между оценками и прибылью Xone составила: nan\n"
     ]
    }
   ],
   "source": [
    "#Соотнесите выводы с продажами игр на других платформах\n",
    "\n",
    "correlation_scores_vs_money =  data_with_scores['combined_scores'].corr(data_with_scores['all_sales'])\n",
    "print('Корреляция между общими оценками и прибылью составила: ', correlation_scores_vs_money)\n",
    "\n",
    "if (correlation_scores_vs_money < .5):\n",
    "    print(\"Корреляция не очень сильна: взаимосвязи между оценками и прибылью нет.\")\n",
    "else:\n",
    "    print(\"Есть явная корреляция между прибылью и оценками критиков и пользователей.\")\n",
    "    \n",
    "    \n",
    "# udp. Изучим корреляцию между оценками и приыблью на примере трех платформ, \n",
    "# которых мы видим потенциально успешными в следующем году: PS4, WiiU, Xone   \n",
    "print('')\n",
    "print('Посмотрим на корреляцию между рейтингами и прибылью на платформах PS4, WiiU, Xone')\n",
    "print('')\n",
    "correlation_scores_vs_money_for_PS4 = data_with_scores.query('platform == \"PS4\"')['combined_scores'].corr(data_with_scores.query('platform == \"PS4\"')['all_sales'])\n",
    "correlation_scores_vs_money_for_WiiU = data_with_scores.query('platform == \"WiiU\"')['combined_scores'].corr(data_with_scores.query('platform == \"WiiU\"')['all_sales'])\n",
    "correlation_scores_vs_money_for_Xone  = data_with_scores.query('platform == \"Xone\"')['combined_scores'].corr(data_with_scores.query('platform == \"Xone\"')['all_sales'])\n",
    "\n",
    "\n",
    "print('Корреляция между оценками и прибылью PS4 составила:', correlation_scores_vs_money_for_PS4)\n",
    "print('Корреляция между оценками и прибылью WiiU составила:', correlation_scores_vs_money_for_WiiU)\n",
    "print('Корреляция между оценками и прибылью Xone составила:', correlation_scores_vs_money_for_Xone)"
   ]
  },
  {
   "cell_type": "markdown",
   "metadata": {},
   "source": [
    "---\n",
    "## Комментарий от наставника\n",
    "\n",
    "Нам надо рассмотреть влияние оценок на выручку по-отдельности. Посмотри на корреляции отзывов критиков и пользователей и выручки по популярным платформам. \n",
    "\n",
    "---"
   ]
  },
  {
   "cell_type": "markdown",
   "metadata": {},
   "source": [
    "**upd** Где-то корреляция оказалась выше средней, но все равно ниже 0.5, поэтому все еще не будем делать выводы о явной связи между этими показателями. У Xone не оказалось в наличии нужных данных для расчетов. "
   ]
  },
  {
   "cell_type": "markdown",
   "metadata": {},
   "source": [
    "<font color=blue> Верно, ситуация по платформам примерно похожа. \n",
    "    \n",
    "---"
   ]
  },
  {
   "cell_type": "code",
   "execution_count": 19,
   "metadata": {},
   "outputs": [
    {
     "name": "stdout",
     "output_type": "stream",
     "text": [
      "              all_sales\n",
      "genre                  \n",
      "Action          1116.65\n",
      "Sports           793.85\n",
      "Shooter          717.04\n",
      "Misc             554.86\n",
      "Role-Playing     522.40\n",
      "Racing           299.00\n",
      "Platform         279.74\n",
      "Simulation       220.65\n",
      "Fighting         188.42\n",
      "Adventure        141.35\n",
      "Puzzle            89.92\n",
      "Strategy          73.14\n"
     ]
    },
    {
     "data": {
      "text/plain": [
       "<AxesSubplot:xlabel='genre'>"
      ]
     },
     "execution_count": 19,
     "metadata": {},
     "output_type": "execute_result"
    },
    {
     "data": {
      "image/png": "[encoded data removed]",
      "text/plain": [
       "<Figure size 432x288 with 1 Axes>"
      ]
     },
     "metadata": {},
     "output_type": "display_data"
    }
   ],
   "source": [
    "#Посмотрим на общее распределение игр по жанрам. \n",
    "#Что можно сказать о самых прибыльных жанрах? Выделяются ли жанры с высокими и низкими продажами?\n",
    "\n",
    "genre_sales = current_years.pivot_table(index='genre', values='all_sales', aggfunc= 'sum')\n",
    "top_genres =  genre_sales.sort_values(by = 'all_sales', ascending = False)\n",
    "print(top_genres)\n",
    "top_genres.plot()"
   ]
  },
  {
   "cell_type": "markdown",
   "metadata": {},
   "source": [
    "**Промежуточные выводы**\n",
    "\n",
    "Мы взяли период с 2006 по 2016 гг, чтобы увидеть взлеты и падения на актуальный для нас промежуток времени.\n",
    "Платформы в среднем живут 5 лет: за это время они могут быть на пике, а потом уйти. Лидеров, которые были бы на пике на протяжение десятилетия мы явно не увидели. \n",
    "\n",
    "Суммарные продажи были лучше всего у платформ X360, PS3, Wii, DS, PS4, хуже всего: у DC, GBA, XB, GC. \n",
    "В среднем платформы могут получить прибыль в 200 млн. долларов (с размахом от 50 до 400 млн. долларов). Понятно, что платформы могут быть убыточными и совсем провальными, по этим данным мы не увидим всего дна, т.к. есть маленькие платформы, которые не попали в датасет. Максимальную прибыль - в 952 млн. долларов мы увидели у X360. Это не выброс и не аномалия, другие игроки (PS3, Wii) практически наступают платформе на пятки. \n",
    "\n",
    "Оценки критиков и пользователей практически не влияют на прибыльность, корреляция между ними очень слаба. Возможно, свою роль сыграла и неполнота данных: если бы каждый оставлял оценку, мы бы увидели другую картину. \n",
    "\n",
    "С жанрами все стало более-менее понятно: прибыльные жанры: Action, Sports, Shooter, Misc, Role-playing, остальные направления сильно отстают.\n"
   ]
  },
  {
   "cell_type": "markdown",
   "metadata": {},
   "source": [
    "### Шаг 4. Составим портрет пользователя каждого региона \n",
    "\n",
    "* Определим пользователей каждого региона (NA, EU, JP):\n",
    "* Самые популярные платформы (топ-5). Опишем различия в долях продаж.\n",
    "* Самые популярные жанры (топ-5). Поясним разницу.\n",
    "* Влияет ли рейтинг ESRB на продажи в отдельном регионе?"
   ]
  },
  {
   "cell_type": "code",
   "execution_count": 20,
   "metadata": {},
   "outputs": [
    {
     "name": "stdout",
     "output_type": "stream",
     "text": [
      "Портрет игрока из Европы:\n",
      "          na_sales\n",
      "platform          \n",
      "X360        588.84\n",
      "Wii         486.87\n",
      "PS3         390.13\n",
      "DS          323.99\n",
      "PS2         114.89\n",
      "              na_sales\n",
      "genre                 \n",
      "Action          530.44\n",
      "Sports          396.64\n",
      "Shooter         373.13\n",
      "Misc            285.06\n",
      "Role-Playing    199.63\n",
      "        na_sales\n",
      "rating          \n",
      "E         796.98\n",
      "M         574.33\n",
      "T         424.14\n",
      "E10+      315.40\n",
      "0         274.50\n",
      "\n",
      "\n"
     ]
    },
    {
     "data": {
      "image/png": "[encoded data removed]",
      "text/plain": [
       "<Figure size 864x432 with 1 Axes>"
      ]
     },
     "metadata": {},
     "output_type": "display_data"
    },
    {
     "data": {
      "image/png": "[encoded data removed]",
      "text/plain": [
       "<Figure size 864x432 with 1 Axes>"
      ]
     },
     "metadata": {},
     "output_type": "display_data"
    },
    {
     "data": {
      "image/png": "[encoded data removed]",
      "text/plain": [
       "<Figure size 576x288 with 1 Axes>"
      ]
     },
     "metadata": {},
     "output_type": "display_data"
    }
   ],
   "source": [
    "# Данные вне зависимости от рейтинга \n",
    "\n",
    "na_users = current_years.query('na_sales != 0')\n",
    "eu_users = current_years.query('eu_sales != 0')\n",
    "jp_users = current_years.query('jp_sales != 0')\n",
    "\n",
    "na_platforms_sales = na_users.pivot_table(index='platform', values='na_sales', aggfunc= 'sum')\n",
    "na_top_5_platforms = na_platforms_sales.sort_values(by = 'na_sales', ascending = False).head(5)\n",
    "na_genre_sales = na_users.pivot_table(index='genre', values='na_sales', aggfunc= 'sum')\n",
    "na_top_5_genres =  na_genre_sales.sort_values(by = 'na_sales', ascending = False).head(5)\n",
    "na_rating_sales = na_users.pivot_table(index='rating', values='na_sales', aggfunc= 'sum')\n",
    "na_top_ratings =  na_rating_sales.sort_values(by = 'na_sales', ascending = False).head(5)\n",
    "\n",
    "print('Портрет игрока из Европы:')\n",
    "print(na_top_5_platforms)\n",
    "print(na_top_5_genres)\n",
    "print(na_top_ratings)\n",
    "print('')\n",
    "\n",
    "\n",
    "na_platforms_sales.plot(kind='barh', figsize=(12,6), color = 'blue')\n",
    "na_genre_sales.plot(kind='barh', figsize=(12,6), color = 'blue')\n",
    "na_rating_sales.plot(kind='bar', figsize=(8,4), color = 'blue')\n",
    "print('')\n",
    "\n"
   ]
  },
  {
   "cell_type": "markdown",
   "metadata": {},
   "source": [
    "Игроки в Северной Америке предпочитают практически те же платформы, которые лидируют во всем мире, не будем их перечислять еще раз. По жанрам такая же ситуация. В рейтингах лидируют игры для всех (E - everyone, M - Mature, T - Teens) "
   ]
  },
  {
   "cell_type": "code",
   "execution_count": 21,
   "metadata": {},
   "outputs": [
    {
     "name": "stdout",
     "output_type": "stream",
     "text": [
      "Портрет игрока из Европы:\n",
      "          eu_sales\n",
      "platform          \n",
      "PS3         327.21\n",
      "X360        267.89\n",
      "Wii         258.32\n",
      "DS          142.99\n",
      "PS4         141.09\n",
      "         eu_sales\n",
      "genre            \n",
      "Action     350.70\n",
      "Sports     251.55\n",
      "Shooter    238.89\n",
      "Misc       146.88\n",
      "Racing     113.39\n",
      "        eu_sales\n",
      "rating          \n",
      "E         461.09\n",
      "M         398.90\n",
      "T         235.44\n",
      "0         227.19\n",
      "E10+      173.35\n",
      "\n",
      "\n"
     ]
    },
    {
     "data": {
      "image/png": "[encoded data removed]",
      "text/plain": [
       "<Figure size 864x432 with 1 Axes>"
      ]
     },
     "metadata": {},
     "output_type": "display_data"
    },
    {
     "data": {
      "image/png": "[encoded data removed]",
      "text/plain": [
       "<Figure size 864x432 with 1 Axes>"
      ]
     },
     "metadata": {},
     "output_type": "display_data"
    },
    {
     "data": {
      "image/png": "[encoded data removed]",
      "text/plain": [
       "<Figure size 576x288 with 1 Axes>"
      ]
     },
     "metadata": {},
     "output_type": "display_data"
    }
   ],
   "source": [
    "eu_platforms_sales = eu_users.pivot_table(index='platform', values='eu_sales', aggfunc= 'sum')\n",
    "eu_top_5_platforms = eu_platforms_sales.sort_values(by = 'eu_sales', ascending = False).head(5)\n",
    "eu_genre_sales = eu_users.pivot_table(index='genre', values='eu_sales', aggfunc= 'sum')\n",
    "eu_top_genres =  eu_genre_sales.sort_values(by = 'eu_sales', ascending = False).head(5)\n",
    "eu_rating_sales = eu_users.pivot_table(index='rating', values='eu_sales', aggfunc= 'sum')\n",
    "eu_top_ratings =  eu_rating_sales.sort_values(by = 'eu_sales', ascending = False).head(5)\n",
    "\n",
    "print('Портрет игрока из Европы:')\n",
    "print(eu_top_5_platforms)\n",
    "print(eu_top_genres)\n",
    "print(eu_top_ratings)\n",
    "print('')\n",
    "\n",
    "eu_platforms_sales.plot(kind='barh', figsize=(12,6), color = 'green')\n",
    "eu_genre_sales.plot(kind='barh', figsize=(12,6), color = 'green')\n",
    "eu_rating_sales.plot(kind='bar', figsize=(8,4), color = 'green')\n",
    "print('')"
   ]
  },
  {
   "cell_type": "markdown",
   "metadata": {},
   "source": [
    "Игроки в Европе предпочитают платформы PS3, X360, Wii, DS, PS4, картина явно отличается от общемировой. Но первые три строчки в жанрах и рейтингах остаются неизменны, в этом вкусы двух континентов совпадают. "
   ]
  },
  {
   "cell_type": "code",
   "execution_count": 22,
   "metadata": {},
   "outputs": [
    {
     "name": "stdout",
     "output_type": "stream",
     "text": [
      "Портрет игрока из Японии:\n",
      "          jp_sales\n",
      "platform          \n",
      "DS          141.49\n",
      "3DS         100.62\n",
      "PS3          79.41\n",
      "PSP          70.63\n",
      "Wii          68.28\n",
      "              jp_sales\n",
      "genre                 \n",
      "Role-Playing    170.38\n",
      "Action          102.07\n",
      "Misc             64.53\n",
      "Sports           48.97\n",
      "Platform         35.20\n",
      "        jp_sales\n",
      "rating          \n",
      "0         276.69\n",
      "E         120.36\n",
      "T          83.90\n",
      "M          43.79\n",
      "E10+       36.57\n",
      "\n",
      "\n"
     ]
    },
    {
     "data": {
      "image/png": "[encoded data removed]",
      "text/plain": [
       "<Figure size 864x432 with 1 Axes>"
      ]
     },
     "metadata": {},
     "output_type": "display_data"
    },
    {
     "data": {
      "image/png": "[encoded data removed]",
      "text/plain": [
       "<Figure size 864x432 with 1 Axes>"
      ]
     },
     "metadata": {},
     "output_type": "display_data"
    },
    {
     "data": {
      "image/png": "[encoded data removed]",
      "text/plain": [
       "<Figure size 576x288 with 1 Axes>"
      ]
     },
     "metadata": {},
     "output_type": "display_data"
    }
   ],
   "source": [
    "jp_platforms_sales = jp_users.pivot_table(index='platform', values='jp_sales', aggfunc= 'sum')\n",
    "jp_top_5_platforms = jp_platforms_sales.sort_values(by = 'jp_sales', ascending = False).head(5)\n",
    "jp_genre_sales = jp_users.pivot_table(index='genre', values='jp_sales', aggfunc= 'sum')\n",
    "jp_top_genres =  jp_genre_sales.sort_values(by = 'jp_sales', ascending = False).head(5)\n",
    "jp_rating_sales = jp_users.pivot_table(index='rating', values='jp_sales', aggfunc= 'sum')\n",
    "jp_top_ratings =  jp_rating_sales.sort_values(by = 'jp_sales', ascending = False).head(5)\n",
    "\n",
    "print('Портрет игрока из Японии:')\n",
    "print(jp_top_5_platforms)\n",
    "print(jp_top_genres)\n",
    "print(jp_top_ratings)\n",
    "print('')\n",
    "\n",
    "jp_platforms_sales.plot(kind='barh', figsize=(12,6), color = 'brown')\n",
    "jp_genre_sales.plot(kind='barh', figsize=(12,6), color = 'brown')\n",
    "jp_rating_sales.plot(kind='bar', figsize=(8,4), color = 'brown')\n",
    "print('')"
   ]
  },
  {
   "cell_type": "markdown",
   "metadata": {},
   "source": [
    "Игроки в Японии предпочитают совершенно другие платформы: DS, 3DS, PS3, PSP, Wii картина региона отличается от общемировой. Жанры и рейтинги также отличаются: в Японии нужно делать ставку на Role-playing и только потом Action и все остальное. По рейтингам, к сожалению, у нас не самая надежная информация, лидируют пропущенные данные. Но дальше ситуация как у всех - E,M,T. "
   ]
  },
  {
   "cell_type": "markdown",
   "metadata": {},
   "source": [
    "### Шаг 5. Проверим  гипотезы\n",
    "\n",
    "* Средние пользовательские рейтинги платформ Xbox One и PC одинаковые;\n",
    "* Средние пользовательские рейтинги жанров Action (англ. «действие») и Sports (англ. «виды спорта») разные. Задайте самостоятельно пороговое значение alpha. \n"
   ]
  },
  {
   "cell_type": "code",
   "execution_count": 23,
   "metadata": {},
   "outputs": [
    {
     "name": "stdout",
     "output_type": "stream",
     "text": [
      "p-значение xbox и pc 0.04893096810327019\n",
      "Отвергаем нулевую гипотезу о том, что средние рейтинги xbox и pc одинаковые.\n"
     ]
    }
   ],
   "source": [
    "#print(current_years['platform'].unique())\n",
    "#print(current_years.head(5))\n",
    "\n",
    "xbox_one_rating = current_years.query('platform == \"XOne\"')['critic_score']\n",
    "pc_rating = current_years.query('platform == \"PC\"')['critic_score']\n",
    "\n",
    "alpha = 0.05\n",
    "\n",
    "results_1 = st.ttest_ind(xbox_one_rating, pc_rating, equal_var = False)\n",
    "print('p-значение xbox и pc', results_1.pvalue)\n",
    "\n",
    "if (results_1.pvalue < alpha):\n",
    "    print(\"Отвергаем нулевую гипотезу о том, что средние рейтинги xbox и pc одинаковые.\")\n",
    "else:\n",
    "    print(\"Не получилось отвергнуть нулевую гипотезу о том, что в средние рейтинги xbox и pc одинаковые.\")"
   ]
  },
  {
   "cell_type": "code",
   "execution_count": 24,
   "metadata": {},
   "outputs": [
    {
     "name": "stdout",
     "output_type": "stream",
     "text": [
      "p-значение жанров Action и Sports 0.6922204177099625\n",
      "Не получилось отвергнуть нулевую гипотезу о том, что жанры Action и Sports одинаково популярны.\n"
     ]
    }
   ],
   "source": [
    "#print(current_years['platform'].unique())\n",
    "\n",
    "action_rating = current_years.query('genre == \"Action\"')['critic_score']\n",
    "sports_rating = current_years.query('genre == \"Sports\"')['critic_score']\n",
    "\n",
    "alpha = 0.05\n",
    "\n",
    "results_2 = st.ttest_ind(action_rating, sports_rating, equal_var = False)\n",
    "print('p-значение жанров Action и Sports', results_2.pvalue)\n",
    "\n",
    "if (results_2.pvalue < alpha):\n",
    "    print(\"Отвергаем нулевую гипотезу о том, что жанры Action и Sports одинаково популярны.\")\n",
    "else:\n",
    "    print(\"Не получилось отвергнуть нулевую гипотезу о том, что жанры Action и Sports одинаково популярны.\")"
   ]
  },
  {
   "cell_type": "markdown",
   "metadata": {},
   "source": [
    "### Шаг 6. Общий вывод\n"
   ]
  },
  {
   "cell_type": "markdown",
   "metadata": {},
   "source": [
    "Наша задача выявить основные факторы, которые влияют на продажи платформ, чтобы выстроить свою линию деятельности в следующем году.\n",
    "\n",
    "С уверенностью можно сказать, что точно не стоит мониторить рейтинги и гнаться за ними: на прибыль они не влияют. \n",
    "\n",
    "А вот на исследовании региональных рынков экономить не стоит: те жанры и платформы, которые пользуются спросом в Америке, явно не подойдут Японии. Важно отметить, что большую часть кассы при этом делает именно Америка, если нужно расставить приоритеты, можно сосредоточиться на ней и распространить линию действий на весь мир. Сработает не очень точно, скорее как план Б.\n",
    "\n",
    "Рейтинг ESRB, в целом таков: больше прибыли приносят универсальные игры для всех с рейтингом E, потом М для взрослых и T для тинейджеров. Разницы по регионам особенно нет.\n",
    "\n",
    "Что касается платформ, мы видим, что никто не может долго и уверенно удерживать лидерство, платформы в среднем имеют жизненный цикл в 5 лет. Каждый год показывает места платформ в рейтинге разнятся: они явно зависят от популярности выпущенных игр под эти платформы. Тем не менее, мы выделили основных лидеров десятилетия: X360, PS3, Wii, DS, PS4. \n",
    "\n",
    "Рейтинги платформ в разных регионах точно довольно отличаются, но мы также проверили вероятность того, что у двух разных платформ в целом могут быть одинаковые рейтинги, а также, что у разных жанров одинаковая прибыль. Обе гипотезы подтвердить не удалось, т.е. платформы и жанры не стоит связывать друг с другом, вероятность, что разные платформы и разные жанры будут вести себя одинаково очень мала.\n",
    "\n",
    "В целом можно сказать, что при планировании на следующий год стоит начать с выбора нужного региона и далее изучать данные в нескольких временных разрезах: за 10 лет, за 5 и отдельно за последний год. Такие промежутки дадут понять пристрастия региональных пользователей по жанрам (они будут видны в промежутке 10 лет), по платформам (последние 5 лет), и по самим играм (последний год). На показатели рейтингов, статусы в ESRB при этом полагаться не стоит: во-первых, не везде есть полные данные, во-вторых, они не всегда сходятся с реальностью: подросток может достать диск с рейтингом M, а взрослый играть в EC, критик может намеренно завышать и занижать оценки.\n"
   ]
  }
 ],
 "metadata": {
  "kernelspec": {
   "display_name": "Python 3",
   "language": "python",
   "name": "python3"
  },
  "language_info": {
   "codemirror_mode": {
    "name": "ipython",
    "version": 3
   },
   "file_extension": ".py",
   "mimetype": "text/x-python",
   "name": "python",
   "nbconvert_exporter": "python",
   "pygments_lexer": "ipython3",
   "version": "3.8.5"
  },
  "toc": {
   "base_numbering": 1,
   "nav_menu": {},
   "number_sections": true,
   "sideBar": true,
   "skip_h1_title": true,
   "title_cell": "Table of Contents",
   "title_sidebar": "Contents",
   "toc_cell": false,
   "toc_position": {},
   "toc_section_display": true,
   "toc_window_display": false
  }
 },
 "nbformat": 4,
 "nbformat_minor": 2
}
